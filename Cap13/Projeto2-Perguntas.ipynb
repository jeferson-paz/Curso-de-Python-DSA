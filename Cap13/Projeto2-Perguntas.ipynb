{
 "cells": [
  {
   "cell_type": "markdown",
   "id": "b061b4ec",
   "metadata": {},
   "source": [
    "## <font color='blue'>Análise Exploratória de Dados em Linguagem Python Para a Área de Varejo</font>"
   ]
  },
  {
   "cell_type": "code",
   "execution_count": 78,
   "id": "b4db14f6",
   "metadata": {},
   "outputs": [],
   "source": [
    "import numpy as np\n",
    "import pandas as pd\n",
    "import matplotlib.pyplot as plt\n",
    "import seaborn as sns\n",
    "import datetime as dt"
   ]
  },
  {
   "cell_type": "markdown",
   "id": "cba483b3",
   "metadata": {},
   "source": [
    "## Carregando os Dados"
   ]
  },
  {
   "cell_type": "code",
   "execution_count": 79,
   "id": "7575e003",
   "metadata": {},
   "outputs": [],
   "source": [
    "url = 'https://raw.githubusercontent.com/jeferson-paz/Curso-de-Python-DSA/main/Cap13/dados/dataset.csv'"
   ]
  },
  {
   "cell_type": "code",
   "execution_count": 80,
   "id": "1d505b86",
   "metadata": {},
   "outputs": [],
   "source": [
    "df = pd.read_csv(url)"
   ]
  },
  {
   "cell_type": "code",
   "execution_count": 81,
   "id": "be034f34",
   "metadata": {},
   "outputs": [
    {
     "name": "stdout",
     "output_type": "stream",
     "text": [
      "        ID_Pedido Data_Pedido ID_Cliente   Segmento           Pais  \\\n",
      "0  CA-2017-152156  08/11/2017   CG-12520   Consumer  United States   \n",
      "1  CA-2017-152156  08/11/2017   CG-12520   Consumer  United States   \n",
      "2  CA-2017-138688  12/06/2017   DV-13045  Corporate  United States   \n",
      "3  US-2016-108966  11/10/2016   SO-20335   Consumer  United States   \n",
      "4  US-2016-108966  11/10/2016   SO-20335   Consumer  United States   \n",
      "\n",
      "            Cidade      Estado       ID_Produto        Categoria SubCategoria  \\\n",
      "0        Henderson    Kentucky  FUR-BO-10001798        Furniture    Bookcases   \n",
      "1        Henderson    Kentucky  FUR-CH-10000454        Furniture       Chairs   \n",
      "2      Los Angeles  California  OFF-LA-10000240  Office Supplies       Labels   \n",
      "3  Fort Lauderdale     Florida  FUR-TA-10000577        Furniture       Tables   \n",
      "4  Fort Lauderdale     Florida  OFF-ST-10000760  Office Supplies      Storage   \n",
      "\n",
      "   Valor_Venda  \n",
      "0     261.9600  \n",
      "1     731.9400  \n",
      "2      14.6200  \n",
      "3     957.5775  \n",
      "4      22.3680  \n"
     ]
    }
   ],
   "source": [
    "print(df.head())"
   ]
  },
  {
   "cell_type": "code",
   "execution_count": 82,
   "id": "b2057c0d",
   "metadata": {},
   "outputs": [
    {
     "data": {
      "text/plain": [
       "(9700, 11)"
      ]
     },
     "execution_count": 82,
     "metadata": {},
     "output_type": "execute_result"
    }
   ],
   "source": [
    "df.shape"
   ]
  },
  {
   "cell_type": "code",
   "execution_count": 83,
   "id": "d2814227",
   "metadata": {
    "scrolled": true
   },
   "outputs": [
    {
     "data": {
      "text/html": [
       "<div>\n",
       "<style scoped>\n",
       "    .dataframe tbody tr th:only-of-type {\n",
       "        vertical-align: middle;\n",
       "    }\n",
       "\n",
       "    .dataframe tbody tr th {\n",
       "        vertical-align: top;\n",
       "    }\n",
       "\n",
       "    .dataframe thead th {\n",
       "        text-align: right;\n",
       "    }\n",
       "</style>\n",
       "<table border=\"1\" class=\"dataframe\">\n",
       "  <thead>\n",
       "    <tr style=\"text-align: right;\">\n",
       "      <th></th>\n",
       "      <th>ID_Pedido</th>\n",
       "      <th>Data_Pedido</th>\n",
       "      <th>ID_Cliente</th>\n",
       "      <th>Segmento</th>\n",
       "      <th>Pais</th>\n",
       "      <th>Cidade</th>\n",
       "      <th>Estado</th>\n",
       "      <th>ID_Produto</th>\n",
       "      <th>Categoria</th>\n",
       "      <th>SubCategoria</th>\n",
       "      <th>Valor_Venda</th>\n",
       "    </tr>\n",
       "  </thead>\n",
       "  <tbody>\n",
       "    <tr>\n",
       "      <th>0</th>\n",
       "      <td>CA-2017-152156</td>\n",
       "      <td>08/11/2017</td>\n",
       "      <td>CG-12520</td>\n",
       "      <td>Consumer</td>\n",
       "      <td>United States</td>\n",
       "      <td>Henderson</td>\n",
       "      <td>Kentucky</td>\n",
       "      <td>FUR-BO-10001798</td>\n",
       "      <td>Furniture</td>\n",
       "      <td>Bookcases</td>\n",
       "      <td>261.9600</td>\n",
       "    </tr>\n",
       "    <tr>\n",
       "      <th>1</th>\n",
       "      <td>CA-2017-152156</td>\n",
       "      <td>08/11/2017</td>\n",
       "      <td>CG-12520</td>\n",
       "      <td>Consumer</td>\n",
       "      <td>United States</td>\n",
       "      <td>Henderson</td>\n",
       "      <td>Kentucky</td>\n",
       "      <td>FUR-CH-10000454</td>\n",
       "      <td>Furniture</td>\n",
       "      <td>Chairs</td>\n",
       "      <td>731.9400</td>\n",
       "    </tr>\n",
       "    <tr>\n",
       "      <th>2</th>\n",
       "      <td>CA-2017-138688</td>\n",
       "      <td>12/06/2017</td>\n",
       "      <td>DV-13045</td>\n",
       "      <td>Corporate</td>\n",
       "      <td>United States</td>\n",
       "      <td>Los Angeles</td>\n",
       "      <td>California</td>\n",
       "      <td>OFF-LA-10000240</td>\n",
       "      <td>Office Supplies</td>\n",
       "      <td>Labels</td>\n",
       "      <td>14.6200</td>\n",
       "    </tr>\n",
       "    <tr>\n",
       "      <th>3</th>\n",
       "      <td>US-2016-108966</td>\n",
       "      <td>11/10/2016</td>\n",
       "      <td>SO-20335</td>\n",
       "      <td>Consumer</td>\n",
       "      <td>United States</td>\n",
       "      <td>Fort Lauderdale</td>\n",
       "      <td>Florida</td>\n",
       "      <td>FUR-TA-10000577</td>\n",
       "      <td>Furniture</td>\n",
       "      <td>Tables</td>\n",
       "      <td>957.5775</td>\n",
       "    </tr>\n",
       "    <tr>\n",
       "      <th>4</th>\n",
       "      <td>US-2016-108966</td>\n",
       "      <td>11/10/2016</td>\n",
       "      <td>SO-20335</td>\n",
       "      <td>Consumer</td>\n",
       "      <td>United States</td>\n",
       "      <td>Fort Lauderdale</td>\n",
       "      <td>Florida</td>\n",
       "      <td>OFF-ST-10000760</td>\n",
       "      <td>Office Supplies</td>\n",
       "      <td>Storage</td>\n",
       "      <td>22.3680</td>\n",
       "    </tr>\n",
       "  </tbody>\n",
       "</table>\n",
       "</div>"
      ],
      "text/plain": [
       "        ID_Pedido Data_Pedido ID_Cliente   Segmento           Pais  \\\n",
       "0  CA-2017-152156  08/11/2017   CG-12520   Consumer  United States   \n",
       "1  CA-2017-152156  08/11/2017   CG-12520   Consumer  United States   \n",
       "2  CA-2017-138688  12/06/2017   DV-13045  Corporate  United States   \n",
       "3  US-2016-108966  11/10/2016   SO-20335   Consumer  United States   \n",
       "4  US-2016-108966  11/10/2016   SO-20335   Consumer  United States   \n",
       "\n",
       "            Cidade      Estado       ID_Produto        Categoria SubCategoria  \\\n",
       "0        Henderson    Kentucky  FUR-BO-10001798        Furniture    Bookcases   \n",
       "1        Henderson    Kentucky  FUR-CH-10000454        Furniture       Chairs   \n",
       "2      Los Angeles  California  OFF-LA-10000240  Office Supplies       Labels   \n",
       "3  Fort Lauderdale     Florida  FUR-TA-10000577        Furniture       Tables   \n",
       "4  Fort Lauderdale     Florida  OFF-ST-10000760  Office Supplies      Storage   \n",
       "\n",
       "   Valor_Venda  \n",
       "0     261.9600  \n",
       "1     731.9400  \n",
       "2      14.6200  \n",
       "3     957.5775  \n",
       "4      22.3680  "
      ]
     },
     "execution_count": 83,
     "metadata": {},
     "output_type": "execute_result"
    }
   ],
   "source": [
    "df.head()"
   ]
  },
  {
   "cell_type": "code",
   "execution_count": 84,
   "id": "962249af",
   "metadata": {},
   "outputs": [
    {
     "data": {
      "text/html": [
       "<div>\n",
       "<style scoped>\n",
       "    .dataframe tbody tr th:only-of-type {\n",
       "        vertical-align: middle;\n",
       "    }\n",
       "\n",
       "    .dataframe tbody tr th {\n",
       "        vertical-align: top;\n",
       "    }\n",
       "\n",
       "    .dataframe thead th {\n",
       "        text-align: right;\n",
       "    }\n",
       "</style>\n",
       "<table border=\"1\" class=\"dataframe\">\n",
       "  <thead>\n",
       "    <tr style=\"text-align: right;\">\n",
       "      <th></th>\n",
       "      <th>ID_Pedido</th>\n",
       "      <th>Data_Pedido</th>\n",
       "      <th>ID_Cliente</th>\n",
       "      <th>Segmento</th>\n",
       "      <th>Pais</th>\n",
       "      <th>Cidade</th>\n",
       "      <th>Estado</th>\n",
       "      <th>ID_Produto</th>\n",
       "      <th>Categoria</th>\n",
       "      <th>SubCategoria</th>\n",
       "      <th>Valor_Venda</th>\n",
       "    </tr>\n",
       "  </thead>\n",
       "  <tbody>\n",
       "    <tr>\n",
       "      <th>9695</th>\n",
       "      <td>CA-2018-154116</td>\n",
       "      <td>15/12/2018</td>\n",
       "      <td>KM-16660</td>\n",
       "      <td>Consumer</td>\n",
       "      <td>United States</td>\n",
       "      <td>Inglewood</td>\n",
       "      <td>California</td>\n",
       "      <td>OFF-PA-10004569</td>\n",
       "      <td>Office Supplies</td>\n",
       "      <td>Paper</td>\n",
       "      <td>22.830</td>\n",
       "    </tr>\n",
       "    <tr>\n",
       "      <th>9696</th>\n",
       "      <td>CA-2018-154116</td>\n",
       "      <td>15/12/2018</td>\n",
       "      <td>KM-16660</td>\n",
       "      <td>Consumer</td>\n",
       "      <td>United States</td>\n",
       "      <td>Inglewood</td>\n",
       "      <td>California</td>\n",
       "      <td>OFF-AP-10000027</td>\n",
       "      <td>Office Supplies</td>\n",
       "      <td>Appliances</td>\n",
       "      <td>54.320</td>\n",
       "    </tr>\n",
       "    <tr>\n",
       "      <th>9697</th>\n",
       "      <td>CA-2018-154116</td>\n",
       "      <td>15/12/2018</td>\n",
       "      <td>KM-16660</td>\n",
       "      <td>Consumer</td>\n",
       "      <td>United States</td>\n",
       "      <td>Inglewood</td>\n",
       "      <td>California</td>\n",
       "      <td>TEC-PH-10000675</td>\n",
       "      <td>Technology</td>\n",
       "      <td>Phones</td>\n",
       "      <td>196.776</td>\n",
       "    </tr>\n",
       "    <tr>\n",
       "      <th>9698</th>\n",
       "      <td>CA-2017-105291</td>\n",
       "      <td>30/10/2017</td>\n",
       "      <td>SP-20920</td>\n",
       "      <td>Consumer</td>\n",
       "      <td>United States</td>\n",
       "      <td>San Luis Obispo</td>\n",
       "      <td>California</td>\n",
       "      <td>OFF-FA-10003059</td>\n",
       "      <td>Office Supplies</td>\n",
       "      <td>Fasteners</td>\n",
       "      <td>3.620</td>\n",
       "    </tr>\n",
       "    <tr>\n",
       "      <th>9699</th>\n",
       "      <td>CA-2018-147032</td>\n",
       "      <td>31/07/2018</td>\n",
       "      <td>LB-16795</td>\n",
       "      <td>Home Office</td>\n",
       "      <td>United States</td>\n",
       "      <td>Wilmington</td>\n",
       "      <td>Delaware</td>\n",
       "      <td>OFF-PA-10003256</td>\n",
       "      <td>Office Supplies</td>\n",
       "      <td>Paper</td>\n",
       "      <td>11.540</td>\n",
       "    </tr>\n",
       "  </tbody>\n",
       "</table>\n",
       "</div>"
      ],
      "text/plain": [
       "           ID_Pedido Data_Pedido ID_Cliente     Segmento           Pais  \\\n",
       "9695  CA-2018-154116  15/12/2018   KM-16660     Consumer  United States   \n",
       "9696  CA-2018-154116  15/12/2018   KM-16660     Consumer  United States   \n",
       "9697  CA-2018-154116  15/12/2018   KM-16660     Consumer  United States   \n",
       "9698  CA-2017-105291  30/10/2017   SP-20920     Consumer  United States   \n",
       "9699  CA-2018-147032  31/07/2018   LB-16795  Home Office  United States   \n",
       "\n",
       "               Cidade      Estado       ID_Produto        Categoria  \\\n",
       "9695        Inglewood  California  OFF-PA-10004569  Office Supplies   \n",
       "9696        Inglewood  California  OFF-AP-10000027  Office Supplies   \n",
       "9697        Inglewood  California  TEC-PH-10000675       Technology   \n",
       "9698  San Luis Obispo  California  OFF-FA-10003059  Office Supplies   \n",
       "9699       Wilmington    Delaware  OFF-PA-10003256  Office Supplies   \n",
       "\n",
       "     SubCategoria  Valor_Venda  \n",
       "9695        Paper       22.830  \n",
       "9696   Appliances       54.320  \n",
       "9697       Phones      196.776  \n",
       "9698    Fasteners        3.620  \n",
       "9699        Paper       11.540  "
      ]
     },
     "execution_count": 84,
     "metadata": {},
     "output_type": "execute_result"
    }
   ],
   "source": [
    "df.tail()"
   ]
  },
  {
   "cell_type": "markdown",
   "id": "3f0cf95a",
   "metadata": {},
   "source": [
    "## Análise Exploratória"
   ]
  },
  {
   "cell_type": "code",
   "execution_count": 85,
   "id": "7e4c9a2d",
   "metadata": {},
   "outputs": [
    {
     "data": {
      "text/plain": [
       "Index(['ID_Pedido', 'Data_Pedido', 'ID_Cliente', 'Segmento', 'Pais', 'Cidade',\n",
       "       'Estado', 'ID_Produto', 'Categoria', 'SubCategoria', 'Valor_Venda'],\n",
       "      dtype='object')"
      ]
     },
     "execution_count": 85,
     "metadata": {},
     "output_type": "execute_result"
    }
   ],
   "source": [
    "df.columns"
   ]
  },
  {
   "cell_type": "code",
   "execution_count": 86,
   "id": "43e7444e",
   "metadata": {},
   "outputs": [
    {
     "data": {
      "text/plain": [
       "ID_Pedido        object\n",
       "Data_Pedido      object\n",
       "ID_Cliente       object\n",
       "Segmento         object\n",
       "Pais             object\n",
       "Cidade           object\n",
       "Estado           object\n",
       "ID_Produto       object\n",
       "Categoria        object\n",
       "SubCategoria     object\n",
       "Valor_Venda     float64\n",
       "dtype: object"
      ]
     },
     "execution_count": 86,
     "metadata": {},
     "output_type": "execute_result"
    }
   ],
   "source": [
    "df.dtypes"
   ]
  },
  {
   "cell_type": "code",
   "execution_count": 87,
   "id": "eec70bba",
   "metadata": {},
   "outputs": [
    {
     "data": {
      "text/plain": [
       "count     9700.000000\n",
       "mean       230.469892\n",
       "std        627.504252\n",
       "min          0.444000\n",
       "25%         17.248000\n",
       "50%         54.272000\n",
       "75%        209.932500\n",
       "max      22638.480000\n",
       "Name: Valor_Venda, dtype: float64"
      ]
     },
     "execution_count": 87,
     "metadata": {},
     "output_type": "execute_result"
    }
   ],
   "source": [
    "df['Valor_Venda'].describe()"
   ]
  },
  {
   "cell_type": "code",
   "execution_count": 88,
   "id": "b8165a80",
   "metadata": {},
   "outputs": [
    {
     "data": {
      "text/html": [
       "<div>\n",
       "<style scoped>\n",
       "    .dataframe tbody tr th:only-of-type {\n",
       "        vertical-align: middle;\n",
       "    }\n",
       "\n",
       "    .dataframe tbody tr th {\n",
       "        vertical-align: top;\n",
       "    }\n",
       "\n",
       "    .dataframe thead th {\n",
       "        text-align: right;\n",
       "    }\n",
       "</style>\n",
       "<table border=\"1\" class=\"dataframe\">\n",
       "  <thead>\n",
       "    <tr style=\"text-align: right;\">\n",
       "      <th></th>\n",
       "      <th>ID_Pedido</th>\n",
       "      <th>Data_Pedido</th>\n",
       "      <th>ID_Cliente</th>\n",
       "      <th>Segmento</th>\n",
       "      <th>Pais</th>\n",
       "      <th>Cidade</th>\n",
       "      <th>Estado</th>\n",
       "      <th>ID_Produto</th>\n",
       "      <th>Categoria</th>\n",
       "      <th>SubCategoria</th>\n",
       "      <th>Valor_Venda</th>\n",
       "    </tr>\n",
       "  </thead>\n",
       "  <tbody>\n",
       "  </tbody>\n",
       "</table>\n",
       "</div>"
      ],
      "text/plain": [
       "Empty DataFrame\n",
       "Columns: [ID_Pedido, Data_Pedido, ID_Cliente, Segmento, Pais, Cidade, Estado, ID_Produto, Categoria, SubCategoria, Valor_Venda]\n",
       "Index: []"
      ]
     },
     "execution_count": 88,
     "metadata": {},
     "output_type": "execute_result"
    }
   ],
   "source": [
    "df[df.duplicated()]"
   ]
  },
  {
   "cell_type": "code",
   "execution_count": 89,
   "id": "936d1045",
   "metadata": {},
   "outputs": [
    {
     "data": {
      "text/plain": [
       "ID_Pedido       0\n",
       "Data_Pedido     0\n",
       "ID_Cliente      0\n",
       "Segmento        0\n",
       "Pais            0\n",
       "Cidade          0\n",
       "Estado          0\n",
       "ID_Produto      0\n",
       "Categoria       0\n",
       "SubCategoria    0\n",
       "Valor_Venda     0\n",
       "dtype: int64"
      ]
     },
     "execution_count": 89,
     "metadata": {},
     "output_type": "execute_result"
    }
   ],
   "source": [
    "df.isnull().sum()"
   ]
  },
  {
   "cell_type": "code",
   "execution_count": 90,
   "id": "4ded149a",
   "metadata": {},
   "outputs": [
    {
     "data": {
      "text/html": [
       "<div>\n",
       "<style scoped>\n",
       "    .dataframe tbody tr th:only-of-type {\n",
       "        vertical-align: middle;\n",
       "    }\n",
       "\n",
       "    .dataframe tbody tr th {\n",
       "        vertical-align: top;\n",
       "    }\n",
       "\n",
       "    .dataframe thead th {\n",
       "        text-align: right;\n",
       "    }\n",
       "</style>\n",
       "<table border=\"1\" class=\"dataframe\">\n",
       "  <thead>\n",
       "    <tr style=\"text-align: right;\">\n",
       "      <th></th>\n",
       "      <th>ID_Pedido</th>\n",
       "      <th>Data_Pedido</th>\n",
       "      <th>ID_Cliente</th>\n",
       "      <th>Segmento</th>\n",
       "      <th>Pais</th>\n",
       "      <th>Cidade</th>\n",
       "      <th>Estado</th>\n",
       "      <th>ID_Produto</th>\n",
       "      <th>Categoria</th>\n",
       "      <th>SubCategoria</th>\n",
       "      <th>Valor_Venda</th>\n",
       "    </tr>\n",
       "  </thead>\n",
       "  <tbody>\n",
       "    <tr>\n",
       "      <th>0</th>\n",
       "      <td>CA-2017-152156</td>\n",
       "      <td>08/11/2017</td>\n",
       "      <td>CG-12520</td>\n",
       "      <td>Consumer</td>\n",
       "      <td>United States</td>\n",
       "      <td>Henderson</td>\n",
       "      <td>Kentucky</td>\n",
       "      <td>FUR-BO-10001798</td>\n",
       "      <td>Furniture</td>\n",
       "      <td>Bookcases</td>\n",
       "      <td>261.9600</td>\n",
       "    </tr>\n",
       "    <tr>\n",
       "      <th>1</th>\n",
       "      <td>CA-2017-152156</td>\n",
       "      <td>08/11/2017</td>\n",
       "      <td>CG-12520</td>\n",
       "      <td>Consumer</td>\n",
       "      <td>United States</td>\n",
       "      <td>Henderson</td>\n",
       "      <td>Kentucky</td>\n",
       "      <td>FUR-CH-10000454</td>\n",
       "      <td>Furniture</td>\n",
       "      <td>Chairs</td>\n",
       "      <td>731.9400</td>\n",
       "    </tr>\n",
       "    <tr>\n",
       "      <th>2</th>\n",
       "      <td>CA-2017-138688</td>\n",
       "      <td>12/06/2017</td>\n",
       "      <td>DV-13045</td>\n",
       "      <td>Corporate</td>\n",
       "      <td>United States</td>\n",
       "      <td>Los Angeles</td>\n",
       "      <td>California</td>\n",
       "      <td>OFF-LA-10000240</td>\n",
       "      <td>Office Supplies</td>\n",
       "      <td>Labels</td>\n",
       "      <td>14.6200</td>\n",
       "    </tr>\n",
       "    <tr>\n",
       "      <th>3</th>\n",
       "      <td>US-2016-108966</td>\n",
       "      <td>11/10/2016</td>\n",
       "      <td>SO-20335</td>\n",
       "      <td>Consumer</td>\n",
       "      <td>United States</td>\n",
       "      <td>Fort Lauderdale</td>\n",
       "      <td>Florida</td>\n",
       "      <td>FUR-TA-10000577</td>\n",
       "      <td>Furniture</td>\n",
       "      <td>Tables</td>\n",
       "      <td>957.5775</td>\n",
       "    </tr>\n",
       "    <tr>\n",
       "      <th>4</th>\n",
       "      <td>US-2016-108966</td>\n",
       "      <td>11/10/2016</td>\n",
       "      <td>SO-20335</td>\n",
       "      <td>Consumer</td>\n",
       "      <td>United States</td>\n",
       "      <td>Fort Lauderdale</td>\n",
       "      <td>Florida</td>\n",
       "      <td>OFF-ST-10000760</td>\n",
       "      <td>Office Supplies</td>\n",
       "      <td>Storage</td>\n",
       "      <td>22.3680</td>\n",
       "    </tr>\n",
       "  </tbody>\n",
       "</table>\n",
       "</div>"
      ],
      "text/plain": [
       "        ID_Pedido Data_Pedido ID_Cliente   Segmento           Pais  \\\n",
       "0  CA-2017-152156  08/11/2017   CG-12520   Consumer  United States   \n",
       "1  CA-2017-152156  08/11/2017   CG-12520   Consumer  United States   \n",
       "2  CA-2017-138688  12/06/2017   DV-13045  Corporate  United States   \n",
       "3  US-2016-108966  11/10/2016   SO-20335   Consumer  United States   \n",
       "4  US-2016-108966  11/10/2016   SO-20335   Consumer  United States   \n",
       "\n",
       "            Cidade      Estado       ID_Produto        Categoria SubCategoria  \\\n",
       "0        Henderson    Kentucky  FUR-BO-10001798        Furniture    Bookcases   \n",
       "1        Henderson    Kentucky  FUR-CH-10000454        Furniture       Chairs   \n",
       "2      Los Angeles  California  OFF-LA-10000240  Office Supplies       Labels   \n",
       "3  Fort Lauderdale     Florida  FUR-TA-10000577        Furniture       Tables   \n",
       "4  Fort Lauderdale     Florida  OFF-ST-10000760  Office Supplies      Storage   \n",
       "\n",
       "   Valor_Venda  \n",
       "0     261.9600  \n",
       "1     731.9400  \n",
       "2      14.6200  \n",
       "3     957.5775  \n",
       "4      22.3680  "
      ]
     },
     "execution_count": 90,
     "metadata": {},
     "output_type": "execute_result"
    }
   ],
   "source": [
    "df.head()"
   ]
  },
  {
   "cell_type": "markdown",
   "id": "78c23315",
   "metadata": {},
   "source": [
    "## Pergunta de Negócio 1:\n",
    "\n",
    "### Qual Cidade com Maior Valor de Venda de Produtos da Categoria 'Office Supplies'?"
   ]
  },
  {
   "cell_type": "code",
   "execution_count": 91,
   "id": "69296d71",
   "metadata": {},
   "outputs": [],
   "source": [
    "df_dsa_p1 = df[df['Categoria'] == 'Office Supplies']"
   ]
  },
  {
   "cell_type": "code",
   "execution_count": 92,
   "id": "a178930e",
   "metadata": {},
   "outputs": [],
   "source": [
    "df_dsa_p1_total = df_dsa_p1.groupby('Cidade')['Valor_Venda'].sum()"
   ]
  },
  {
   "cell_type": "code",
   "execution_count": 93,
   "id": "0c78b6b0",
   "metadata": {},
   "outputs": [
    {
     "name": "stdout",
     "output_type": "stream",
     "text": [
      "Cidade com maior valor de venda para 'Office Supplies': New York City\n"
     ]
    }
   ],
   "source": [
    "cidade_maior_venda = df_dsa_p1_total.idxmax()\n",
    "print(\"Cidade com maior valor de venda para 'Office Supplies':\", cidade_maior_venda)"
   ]
  },
  {
   "cell_type": "code",
   "execution_count": 94,
   "id": "525b0bbb",
   "metadata": {},
   "outputs": [
    {
     "data": {
      "text/plain": [
       "Cidade\n",
       "New York City    68362.814\n",
       "Los Angeles      47098.100\n",
       "San Francisco    41771.198\n",
       "Seattle          34856.878\n",
       "Philadelphia     29313.687\n",
       "                   ...    \n",
       "Ormond Beach         2.808\n",
       "Pensacola            2.214\n",
       "Jupiter              2.064\n",
       "Elyria               1.824\n",
       "Abilene              1.392\n",
       "Name: Valor_Venda, Length: 480, dtype: float64"
      ]
     },
     "execution_count": 94,
     "metadata": {},
     "output_type": "execute_result"
    }
   ],
   "source": [
    "df_dsa_p1_total.sort_values(ascending = False)"
   ]
  },
  {
   "cell_type": "markdown",
   "id": "b2257a7b",
   "metadata": {},
   "source": [
    "## Pergunta de Negócio 2:\n",
    "\n",
    "### Qual o Total de Vendas Por Data do Pedido?\n",
    "\n",
    "Demonstre o resultado através de um gráfico de barras."
   ]
  },
  {
   "cell_type": "code",
   "execution_count": 95,
   "id": "47ec7085",
   "metadata": {},
   "outputs": [],
   "source": [
    "df = df.groupby('Data_Pedido')['Valor_Venda'].sum()"
   ]
  },
  {
   "cell_type": "code",
   "execution_count": 96,
   "id": "67c72143",
   "metadata": {},
   "outputs": [
    {
     "data": {
      "text/plain": [
       "Data_Pedido\n",
       "01/01/2018    1481.8280\n",
       "01/02/2015     468.9000\n",
       "01/02/2017     161.9700\n",
       "01/03/2015    2203.1510\n",
       "01/03/2016    1642.1744\n",
       "Name: Valor_Venda, dtype: float64"
      ]
     },
     "execution_count": 96,
     "metadata": {},
     "output_type": "execute_result"
    }
   ],
   "source": [
    "df.head()"
   ]
  },
  {
   "cell_type": "code",
   "execution_count": 97,
   "id": "3819f47e",
   "metadata": {},
   "outputs": [
    {
     "data": {
      "image/png": "[encoded data removed]",
      "text/plain": [
       "<Figure size 2000x600 with 1 Axes>"
      ]
     },
     "metadata": {},
     "output_type": "display_data"
    }
   ],
   "source": [
    "plt.figure(figsize = (20, 6))\n",
    "df.plot(x = 'Data_Pedido', y = 'Valor_Venda', color = 'skyblue')\n",
    "plt.title('Total de Vendas Por Data do Pedido')\n",
    "plt.show()"
   ]
  },
  {
   "cell_type": "markdown",
   "id": "2c27a9db",
   "metadata": {},
   "source": [
    "## Pergunta de Negócio 3:\n",
    "\n",
    "### Qual o Total de Vendas por Estado?\n",
    "\n",
    "Demonstre o resultado através de um gráfico de barras."
   ]
  },
  {
   "cell_type": "code",
   "execution_count": null,
   "id": "2187c6b6",
   "metadata": {},
   "outputs": [],
   "source": [
    "df_dsa_p3 = df.groupby('Estado')['Valor_Venda'].sum().reset_index()"
   ]
  },
  {
   "cell_type": "code",
   "execution_count": null,
   "id": "be0eca15",
   "metadata": {},
   "outputs": [],
   "source": [
    "plt.figure(figsize = (16, 6))\n",
    "sns.barplot(data = df_dsa_p3, \n",
    "            y = 'Valor_Venda', \n",
    "            x = 'Estado').set(title = 'Vendas Por Estado')\n",
    "plt.xticks(rotation = 80)\n",
    "plt.show()"
   ]
  },
  {
   "cell_type": "code",
   "execution_count": null,
   "id": "66fae900",
   "metadata": {},
   "outputs": [],
   "source": [
    "import seaborn as sns\n",
    "import matplotlib.pyplot as plt\n",
    "import pandas as pd\n",
    "\n",
    "df_dsa_p3 = df.groupby('Estado')['Valor_Venda'].sum().reset_index()\n",
    "\n",
    "df_dsa_p3 = df_dsa_p3.sort_values(by='Valor_Venda', ascending=False)\n",
    "\n",
    "sns.set_theme(style=\"whitegrid\")\n",
    "plt.figure(figsize=(16, 6))\n",
    "\n",
    "ax = sns.barplot(x='Estado', y='Valor_Venda', data=df_dsa_p3, palette='Blues_d')\n",
    "\n",
    "plt.xlabel('Estado', fontsize=12)\n",
    "plt.ylabel('Total de Vendas', fontsize=12)\n",
    "plt.title('Total de Vendas Por Estado', fontsize=16)\n",
    "plt.xticks(rotation=45)\n",
    "\n",
    "plt.tight_layout()\n",
    "\n",
    "plt.show()"
   ]
  },
  {
   "cell_type": "markdown",
   "id": "ac63cfc4",
   "metadata": {},
   "source": [
    "## Pergunta de Negócio 4:\n",
    "\n",
    "### Quais São as 10 Cidades com Maior Total de Vendas?\n",
    "\n",
    "Demonstre o resultado através de um gráfico de barras."
   ]
  },
  {
   "cell_type": "code",
   "execution_count": null,
   "id": "0cf40843",
   "metadata": {},
   "outputs": [],
   "source": [
    "vendas_por_cidade = df.groupby('Cidade')['Valor_Venda'].sum().reset_index()\n",
    "top_10_cidades = vendas_por_cidade.sort_values(by='Valor_Venda', ascending=False).head(10)"
   ]
  },
  {
   "cell_type": "code",
   "execution_count": null,
   "id": "f593eccc",
   "metadata": {},
   "outputs": [],
   "source": [
    "top_10_cidades.head(10)"
   ]
  },
  {
   "cell_type": "code",
   "execution_count": null,
   "id": "ee7c6b87",
   "metadata": {},
   "outputs": [],
   "source": [
    "sns.set(style=\"whitegrid\")\n",
    "plt.figure(figsize=(12, 6))\n",
    "sns.barplot(x='Cidade', y='Valor_Venda', data=top_10_cidades, palette='Blues_d')\n",
    "plt.xlabel('Cidade')\n",
    "plt.ylabel('Total de Vendas')\n",
    "plt.title('Top 10 Cidades com Maior Total de Vendas')\n",
    "plt.xticks(rotation=45)\n",
    "plt.tight_layout()\n",
    "plt.show()"
   ]
  },
  {
   "cell_type": "markdown",
   "id": "4831dc06",
   "metadata": {},
   "source": [
    "## Pergunta de Negócio 5:\n",
    "\n",
    "### Qual Segmento Teve o Maior Total de Vendas?\n",
    "\n",
    "Demonstre o resultado através de um gráfico de pizza."
   ]
  },
  {
   "cell_type": "code",
   "execution_count": null,
   "id": "70c90a68",
   "metadata": {},
   "outputs": [],
   "source": [
    "vendas_por_segmento = df.groupby('Segmento')['Valor_Venda'].sum().reset_index()\n",
    "\n",
    "\n",
    "def formato_pie(valores, labels):\n",
    "    return [f'{label}: R${valor:,.2f}' for valor, label in zip(valores, labels)]\n",
    "\n",
    "cores = sns.color_palette(\"Blues\", len(vendas_por_segmento))\n",
    "\n",
    "plt.figure(figsize=(8, 8))\n",
    "plt.pie(vendas_por_segmento['Valor_Venda'], \n",
    "        labels=vendas_por_segmento['Segmento'], \n",
    "        colors=cores,\n",
    "        autopct=lambda pct: formato_pie([pct * sum(vendas_por_segmento['Valor_Venda']) / 100], [''])[0],\n",
    "        startangle=140)\n",
    "plt.title('Total de Vendas por Segmento')\n",
    "plt.axis('equal')\n",
    "plt.show()\n"
   ]
  },
  {
   "cell_type": "markdown",
   "id": "8eb0ea56",
   "metadata": {},
   "source": [
    "## Pergunta de Negócio 6:\n",
    "\n",
    "### Qual o Total de Vendas Por Segmento e Por Ano?"
   ]
  },
  {
   "cell_type": "code",
   "execution_count": null,
   "id": "14f10869",
   "metadata": {},
   "outputs": [],
   "source": [
    "df.head()"
   ]
  },
  {
   "cell_type": "code",
   "execution_count": null,
   "id": "d3c59e87",
   "metadata": {},
   "outputs": [],
   "source": [
    "df['Data_Pedido'] = pd.to_datetime(df['Data_Pedido'], dayfirst = True)"
   ]
  },
  {
   "cell_type": "code",
   "execution_count": null,
   "id": "7d78fbf4",
   "metadata": {},
   "outputs": [],
   "source": [
    "df.dtypes"
   ]
  },
  {
   "cell_type": "code",
   "execution_count": null,
   "id": "8350899d",
   "metadata": {},
   "outputs": [],
   "source": [
    "df['Ano'] = df['Data_Pedido'].dt.year"
   ]
  },
  {
   "cell_type": "code",
   "execution_count": null,
   "id": "3643efc7",
   "metadata": {},
   "outputs": [],
   "source": [
    "df.head()"
   ]
  },
  {
   "cell_type": "code",
   "execution_count": null,
   "id": "5132ade8",
   "metadata": {},
   "outputs": [],
   "source": [
    "df_dsa_p6 = df.groupby(['Ano', 'Segmento'])['Valor_Venda'].sum()"
   ]
  },
  {
   "cell_type": "code",
   "execution_count": null,
   "id": "4793bcc7",
   "metadata": {},
   "outputs": [],
   "source": [
    "df_dsa_p6"
   ]
  },
  {
   "cell_type": "markdown",
   "id": "56fbe644",
   "metadata": {},
   "source": [
    "## Pergunta de Negócio 7:\n",
    "\n",
    "Os gestores da empresa estão considerando conceder diferentes faixas de descontos e gostariam de fazer uma simulação com base na regra abaixo:\n",
    "\n",
    "- Se o Valor_Venda for maior que 1000 recebe 15% de desconto.\n",
    "- Se o Valor_Venda for menor que 1000 recebe 10% de desconto.\n",
    "\n",
    "### Quantas Vendas Receberiam 15% de Desconto?"
   ]
  },
  {
   "cell_type": "code",
   "execution_count": null,
   "id": "5735af66",
   "metadata": {},
   "outputs": [],
   "source": [
    "df['Desconto'] = np.where(df['Valor_Venda'] > 1000, 0.15, 0.10)"
   ]
  },
  {
   "cell_type": "code",
   "execution_count": null,
   "id": "e2c9352b",
   "metadata": {},
   "outputs": [],
   "source": [
    "df.head()"
   ]
  },
  {
   "cell_type": "code",
   "execution_count": null,
   "id": "2b5562ad",
   "metadata": {},
   "outputs": [],
   "source": [
    "df['Desconto'].value_counts()"
   ]
  },
  {
   "cell_type": "code",
   "execution_count": null,
   "id": "f245ca35",
   "metadata": {},
   "outputs": [],
   "source": [
    "print('No Total 457 Vendas Receberiam Desconto de 15%.')"
   ]
  },
  {
   "cell_type": "markdown",
   "id": "f313c42a",
   "metadata": {},
   "source": [
    "## Pergunta de Negócio 8:\n",
    "\n",
    "### Considere Que a Empresa Decida Conceder o Desconto de 15% do Item Anterior. Qual Seria a Média do Valor de Venda Antes e Depois do Desconto?"
   ]
  },
  {
   "cell_type": "code",
   "execution_count": null,
   "id": "47b8f2a4",
   "metadata": {},
   "outputs": [],
   "source": [
    "df['Valor_Venda_Desconto'] = df['Valor_Venda'] - (df['Valor_Venda'] * df['Desconto'])"
   ]
  },
  {
   "cell_type": "code",
   "execution_count": null,
   "id": "d4d5ce02",
   "metadata": {},
   "outputs": [],
   "source": [
    "df.head()"
   ]
  },
  {
   "cell_type": "code",
   "execution_count": null,
   "id": "10f8bae5",
   "metadata": {},
   "outputs": [],
   "source": [
    "df_dsa_p8_vendas_antes_desconto = df.loc[df['Desconto'] == 0.15, 'Valor_Venda']"
   ]
  },
  {
   "cell_type": "code",
   "execution_count": null,
   "id": "a5db1434",
   "metadata": {},
   "outputs": [],
   "source": [
    "df_dsa_p8_vendas_depois_desconto = df.loc[df['Desconto'] == 0.15, 'Valor_Venda_Desconto']"
   ]
  },
  {
   "cell_type": "code",
   "execution_count": null,
   "id": "dc607feb",
   "metadata": {},
   "outputs": [],
   "source": [
    "media_vendas_antes_desconto = df_dsa_p8_vendas_antes_desconto.mean()"
   ]
  },
  {
   "cell_type": "code",
   "execution_count": null,
   "id": "91cb585b",
   "metadata": {},
   "outputs": [],
   "source": [
    "media_vendas_depois_desconto = df_dsa_p8_vendas_depois_desconto.mean()"
   ]
  },
  {
   "cell_type": "code",
   "execution_count": null,
   "id": "d2c96a80",
   "metadata": {},
   "outputs": [],
   "source": [
    "print(\"Média das vendas antes do desconto de 15%:\", round(media_vendas_antes_desconto, 2))"
   ]
  },
  {
   "cell_type": "code",
   "execution_count": null,
   "id": "c3505004",
   "metadata": {},
   "outputs": [],
   "source": [
    "print(\"Média das vendas depois do desconto de 15%:\", round(media_vendas_depois_desconto, 2))"
   ]
  },
  {
   "cell_type": "markdown",
   "id": "149e1214",
   "metadata": {},
   "source": [
    "## Pergunta de Negócio 9:\n",
    "\n",
    "### Qual o Média de Vendas Por Segmento, Por Ano e Por Mês?\n",
    "\n",
    "Demonstre o resultado através de gráfico de linha."
   ]
  },
  {
   "cell_type": "code",
   "execution_count": null,
   "id": "1eed1a02",
   "metadata": {},
   "outputs": [],
   "source": [
    "df['Mes'] = df['Data_Pedido'].dt.month"
   ]
  },
  {
   "cell_type": "code",
   "execution_count": null,
   "id": "2bc0520f",
   "metadata": {},
   "outputs": [],
   "source": [
    "df.head()"
   ]
  },
  {
   "cell_type": "code",
   "execution_count": null,
   "id": "7fe1bec0",
   "metadata": {},
   "outputs": [],
   "source": [
    "df_dsa_p9 = df.groupby(['Ano', 'Mes', 'Segmento'])['Valor_Venda'].agg([np.sum, np.mean, np.median])"
   ]
  },
  {
   "cell_type": "code",
   "execution_count": null,
   "id": "9cec4be6",
   "metadata": {},
   "outputs": [],
   "source": [
    "df_dsa_p9"
   ]
  },
  {
   "cell_type": "code",
   "execution_count": null,
   "id": "9d494e2f",
   "metadata": {},
   "outputs": [],
   "source": [
    "anos = df_dsa_p9.index.get_level_values(0)\n",
    "meses = df_dsa_p9.index.get_level_values(1)\n",
    "segmentos = df_dsa_p9.index.get_level_values(2)"
   ]
  },
  {
   "cell_type": "code",
   "execution_count": null,
   "id": "45f0ee1b",
   "metadata": {},
   "outputs": [],
   "source": [
    "plt.figure(figsize = (12, 6))\n",
    "sns.set()\n",
    "fig1 = sns.relplot(kind = 'line',\n",
    "                data = df_dsa_p9, \n",
    "                y = 'mean', \n",
    "                x = meses,\n",
    "                hue = segmentos, \n",
    "                col = anos,\n",
    "                col_wrap = 4)\n",
    "plt.show()"
   ]
  },
  {
   "cell_type": "markdown",
   "id": "836ba626",
   "metadata": {},
   "source": [
    "## Pergunta de Negócio 10:\n",
    "\n",
    "### Qual o Total de Vendas Por Categoria e SubCategoria, Considerando Somente as Top 12 SubCategorias? \n",
    "\n",
    "Demonstre tudo através de um único gráfico."
   ]
  },
  {
   "cell_type": "code",
   "execution_count": null,
   "id": "53808b99",
   "metadata": {},
   "outputs": [],
   "source": [
    "df.head()"
   ]
  },
  {
   "cell_type": "code",
   "execution_count": null,
   "id": "f3d15395",
   "metadata": {},
   "outputs": [],
   "source": [
    "df_dsa_p10 = df.groupby(['Categoria',\n",
    "                            'SubCategoria']).sum(numeric_only = True).sort_values('Valor_Venda',\n",
    "                                                                                ascending = False).head(12)"
   ]
  },
  {
   "cell_type": "code",
   "execution_count": null,
   "id": "850f4def",
   "metadata": {},
   "outputs": [],
   "source": [
    "df_dsa_p10 = df_dsa_p10[['Valor_Venda']].astype(int).sort_values(by = 'Categoria').reset_index()"
   ]
  },
  {
   "cell_type": "code",
   "execution_count": null,
   "id": "155194ad",
   "metadata": {},
   "outputs": [],
   "source": [
    "df_dsa_p10"
   ]
  },
  {
   "cell_type": "code",
   "execution_count": null,
   "id": "9eed28af",
   "metadata": {},
   "outputs": [],
   "source": [
    "df_dsa_p10_cat = df_dsa_p10.groupby('Categoria').sum(numeric_only = True).reset_index()"
   ]
  },
  {
   "cell_type": "code",
   "execution_count": null,
   "id": "4cc44178",
   "metadata": {},
   "outputs": [],
   "source": [
    "df_dsa_p10_cat"
   ]
  },
  {
   "cell_type": "code",
   "execution_count": null,
   "id": "e27aa9de",
   "metadata": {},
   "outputs": [],
   "source": [
    "cores_categorias = ['#5d00de',\n",
    "                    '#0ee84f',\n",
    "                    '#e80e27']"
   ]
  },
  {
   "cell_type": "code",
   "execution_count": null,
   "id": "27afb19b",
   "metadata": {},
   "outputs": [],
   "source": [
    "cores_subcategorias = ['#aa8cd4',\n",
    "                       '#aa8cd5',\n",
    "                       '#aa8cd6',\n",
    "                       '#aa8cd7',\n",
    "                       '#26c957',\n",
    "                       '#26c958',\n",
    "                       '#26c959',\n",
    "                       '#26c960',\n",
    "                       '#e65e65',\n",
    "                       '#e65e66',\n",
    "                       '#e65e67',\n",
    "                       '#e65e68']"
   ]
  },
  {
   "cell_type": "code",
   "execution_count": null,
   "id": "774c138d",
   "metadata": {},
   "outputs": [],
   "source": [
    "fig, ax = plt.subplots(figsize=(20, 18))\n",
    "\n",
    "\n",
    "p1 = ax.pie(df_dsa_p10_cat['Valor_Venda'], \n",
    "            radius=1,\n",
    "            labels=df_dsa_p10_cat['Categoria'],\n",
    "            wedgeprops=dict(edgecolor='white'),\n",
    "            colors=cores_categorias)\n",
    "\n",
    "p2 = ax.pie(df_dsa_p10['Valor_Venda'],\n",
    "            radius=0.9,\n",
    "            labels=df_dsa_p10['SubCategoria'],\n",
    "            autopct='%1.1f%%',\n",
    "            colors=cores_subcategorias, \n",
    "            labeldistance=0.7,\n",
    "            wedgeprops=dict(edgecolor='white'), \n",
    "            pctdistance=0.53,\n",
    "            rotatelabels=True)\n",
    "\n",
    "centre_circle = plt.Circle((0, 0), 0.6, fc='white')\n",
    "fig.gca().add_artist(centre_circle)\n",
    "\n",
    "plt.annotate(text='Total de Vendas: $ ' + str(int(sum(df_dsa_p10['Valor_Venda']))), xy=(-0.1, 0))\n",
    "\n",
    "plt.title('Total de Vendas Por Categoria e Top 12 SubCategorias')\n",
    "\n",
    "plt.show()"
   ]
  }
 ],
 "metadata": {
  "kernelspec": {
   "display_name": "Python 3 (ipykernel)",
   "language": "python",
   "name": "python3"
  },
  "language_info": {
   "codemirror_mode": {
    "name": "ipython",
    "version": 3
   },
   "file_extension": ".py",
   "mimetype": "text/x-python",
   "name": "python",
   "nbconvert_exporter": "python",
   "pygments_lexer": "ipython3",
   "version": "3.11.9"
  }
 },
 "nbformat": 4,
 "nbformat_minor": 5
}
