{
 "cells": [
  {
   "cell_type": "markdown",
   "metadata": {},
   "source": [
    "# <font color='blue'>Data Science Academy</font>\n",
    "\n",
    "## <font color='blue'>Fundamentos de Linguagem Python Para Análise de Dados e Data Science</font>\n",
    "\n",
    "## <font color='blue'>Capítulo 4 - Exercícios</font>"
   ]
  },
  {
   "cell_type": "code",
   "execution_count": 1,
   "metadata": {},
   "outputs": [
    {
     "name": "stdout",
     "output_type": "stream",
     "text": [
      "Versão da Linguagem Python Usada Neste Jupyter Notebook: 3.8.8\n"
     ]
    }
   ],
   "source": [
    "# Versão da Linguagem Python\n",
    "from platform import python_version\n",
    "print('Versão da Linguagem Python Usada Neste Jupyter Notebook:', python_version())"
   ]
  },
  {
   "cell_type": "markdown",
   "metadata": {},
   "source": [
    "## Exercícios "
   ]
  },
  {
   "cell_type": "code",
   "execution_count": 98,
   "metadata": {},
   "outputs": [
    {
     "name": "stdout",
     "output_type": "stream",
     "text": [
      "[1, 2, 3, 4, 5, 7, 8, 9, 10]\n",
      "Operação concluída com sucesso! ✓\n"
     ]
    }
   ],
   "source": [
    "# Exercício 1 - Imprima na tela os números de 1 a 10. Use uma lista para armazenar os números.\n",
    "lista = [1,2,3,4,5,7,8,9,10]\n",
    "print (lista)\n",
    "# Exemplo de como imprimir um símbolo de certo em Python\n",
    "simbolo_certo = \"\\u2713\"\n",
    "print(f\"Operação concluída com sucesso! {simbolo_certo}\")"
   ]
  },
  {
   "cell_type": "code",
   "execution_count": 105,
   "metadata": {},
   "outputs": [
    {
     "name": "stdout",
     "output_type": "stream",
     "text": [
      "['Casa', 'Mesa', 'Lampada', 'Cadeira', 'Sala']\n",
      "Operação concluída com sucesso! ✓\n"
     ]
    }
   ],
   "source": [
    "# Exercício 2 - Crie uma lista de 5 objetos e imprima na tela\n",
    "lista2 = ['Casa', 'Mesa', 'Lampada', 'Cadeira', 'Sala']\n",
    "print(lista2)\n",
    "# Exemplo de como imprimir um símbolo de certo em Python\n",
    "simbolo_certo = \"\\u2713\"\n",
    "print(f\"Operação concluída com sucesso! {simbolo_certo}\")"
   ]
  },
  {
   "cell_type": "code",
   "execution_count": 106,
   "metadata": {},
   "outputs": [
    {
     "name": "stdout",
     "output_type": "stream",
     "text": [
      "Aprendendo linguem de Programção em Python\n",
      "Operação concluída com sucesso! ✓\n"
     ]
    }
   ],
   "source": [
    "# Exercício 3 - Crie duas strings e concatene as duas em uma terceira string\n",
    "frase = 'Aprendendo linguem'\n",
    "frase2 = ' de Programção em Python'\n",
    "frase3 = frase + frase2\n",
    "print(frase3)\n",
    "# Exemplo de como imprimir um símbolo de certo em Python\n",
    "simbolo_certo = \"\\u2713\"\n",
    "print(f\"Operação concluída com sucesso! {simbolo_certo}\")"
   ]
  },
  {
   "cell_type": "code",
   "execution_count": 111,
   "metadata": {},
   "outputs": [
    {
     "name": "stdout",
     "output_type": "stream",
     "text": [
      "3\n",
      "Operação concluída com sucesso! ✓\n"
     ]
    }
   ],
   "source": [
    "# Exercício 4 - Crie uma tupla com os seguintes elementos: 1, 2, 2, 3, 4, 4, 4, 5 e depois utilize a função count do \n",
    "# objeto tupla para verificar quantas vezes o número 4 aparece na tupla\n",
    "tupla = (1, 2, 3, 4, 4, 4, 5)\n",
    "print(tupla.count(4))\n",
    "# Exemplo de como imprimir um símbolo de certo em Python\n",
    "simbolo_certo = \"\\u2713\"\n",
    "print(f\"Operação concluída com sucesso! {simbolo_certo}\")"
   ]
  },
  {
   "cell_type": "code",
   "execution_count": 115,
   "metadata": {},
   "outputs": [
    {
     "name": "stdout",
     "output_type": "stream",
     "text": [
      "{}\n",
      "Operação concluída com sucesso! ✓\n"
     ]
    }
   ],
   "source": [
    "# Exercício 5 - Crie um dicionário vazio e imprima na tela\n",
    "vazio = {}\n",
    "print(vazio)\n",
    "# Exemplo de como imprimir um símbolo de certo em Python\n",
    "simbolo_certo = \"\\u2713\"\n",
    "print(f\"Operação concluída com sucesso! {simbolo_certo}\")"
   ]
  },
  {
   "cell_type": "code",
   "execution_count": 116,
   "metadata": {},
   "outputs": [
    {
     "name": "stdout",
     "output_type": "stream",
     "text": [
      "{'Ana': 23, 'Beto': 26, 'Luana': 32}\n",
      "Operação concluída com sucesso! ✓\n"
     ]
    }
   ],
   "source": [
    "# Exercício 6 - Crie um dicionário com 3 chaves e 3 valores e imprima na tela\n",
    "dic = {\"Ana\":23, \"Beto\":26, \"Luana\":32}\n",
    "print(dic)\n",
    "# Exemplo de como imprimir um símbolo de certo em Python\n",
    "simbolo_certo = \"\\u2713\"\n",
    "print(f\"Operação concluída com sucesso! {simbolo_certo}\")"
   ]
  },
  {
   "cell_type": "code",
   "execution_count": 119,
   "metadata": {},
   "outputs": [
    {
     "name": "stdout",
     "output_type": "stream",
     "text": [
      "{'Ana': 23, 'Beto': 26, 'Luana': 32, 'Jeferson': 35}\n",
      "Operação concluída com sucesso! ✓\n"
     ]
    }
   ],
   "source": [
    "# Exercício 7 - Adicione mais um elemento ao dicionário criado no exercício anterior e imprima na tela\n",
    "dic[\"Jeferson\"] = 35\n",
    "print(dic)\n",
    "# Exemplo de como imprimir um símbolo de certo em Python\n",
    "simbolo_certo = \"\\u2713\"\n",
    "print(f\"Operação concluída com sucesso! {simbolo_certo}\")"
   ]
  },
  {
   "cell_type": "code",
   "execution_count": 122,
   "metadata": {},
   "outputs": [
    {
     "name": "stdout",
     "output_type": "stream",
     "text": [
      "{'chave1': 1500, 'chave2': [22, 453, 73.4, 5.5, 1500], 'chave3': ['picanha', 'fraldinha', 'alcatra', 'sardinha', 'alface']}\n",
      "Operação concluída com sucesso! ✓\n"
     ]
    }
   ],
   "source": [
    "# Exercício 8 - Crie um dicionário com 3 chaves e 3 valores. \n",
    "# Um dos valores deve ser uma lista de 2 elementos numéricos. \n",
    "# Imprima o dicionário na tela.\n",
    "dic3 = {'chave1':1500, 'chave2':[22,453,73.4,5.5,1500], 'chave3':['picanha', 'fraldinha', 'alcatra', 'sardinha','alface']}\n",
    "print(dic3)\n",
    "# Exemplo de como imprimir um símbolo de certo em Python\n",
    "simbolo_certo = \"\\u2713\"\n",
    "print(f\"Operação concluída com sucesso! {simbolo_certo}\")"
   ]
  },
  {
   "cell_type": "code",
   "execution_count": 126,
   "metadata": {},
   "outputs": [
    {
     "name": "stdout",
     "output_type": "stream",
     "text": [
      "['picanha', ('help', 26), {'Anna': 40, 'Jeferson': 35}, 4.6]\n",
      "Operação concluída com sucesso! ✓\n"
     ]
    }
   ],
   "source": [
    "# Exercício 9 - Crie uma lista de 4 elementos. O primeiro elemento deve ser uma string, \n",
    "# o segundo uma tupla de 2 elementos, o terceiro um dcionário com 2 chaves e 2 valores e \n",
    "# o quarto elemento um valor do tipo float.\n",
    "# Imprima a lista.\n",
    "list4 = [\"picanha\", (\"help\", 26), {\"Anna\": 40, \"Jeferson\": 35}, 4.6]\n",
    "print(list4)\n",
    "# Exemplo de como imprimir um símbolo de certo em Python\n",
    "simbolo_certo = \"\\u2713\"\n",
    "print(f\"Operação concluída com sucesso! {simbolo_certo}\")"
   ]
  },
  {
   "cell_type": "code",
   "execution_count": 131,
   "metadata": {},
   "outputs": [
    {
     "name": "stdout",
     "output_type": "stream",
     "text": [
      "Cientista de Dados\n",
      "Operação concluída com sucesso! ✓\n"
     ]
    }
   ],
   "source": [
    "# Exercício 10 - Considere a string abaixo. Imprima na tela apenas os caracteres da posição 1 a 18.\n",
    "frase = 'Cientista de Dados é o profissional mais sexy do século XXI'\n",
    "print(frase[0:18])\n",
    "# Exemplo de como imprimir um símbolo de certo em Python\n",
    "simbolo_certo = \"\\u2713\"\n",
    "print(f\"Operação concluída com sucesso! {simbolo_certo}\")"
   ]
  },
  {
   "cell_type": "markdown",
   "metadata": {},
   "source": [
    "# Fim"
   ]
  },
  {
   "cell_type": "markdown",
   "metadata": {},
   "source": [
    "### Obrigado\n",
    "\n",
    "### Visite o Blog da Data Science Academy - <a href=\"http://blog.dsacademy.com.br\">Blog DSA</a>"
   ]
  }
 ],
 "metadata": {
  "kernelspec": {
   "display_name": "Python 3 (ipykernel)",
   "language": "python",
   "name": "python3"
  },
  "language_info": {
   "codemirror_mode": {
    "name": "ipython",
    "version": 3
   },
   "file_extension": ".py",
   "mimetype": "text/x-python",
   "name": "python",
   "nbconvert_exporter": "python",
   "pygments_lexer": "ipython3",
   "version": "3.11.5"
  }
 },
 "nbformat": 4,
 "nbformat_minor": 1
}
