{
 "cells": [
  {
   "cell_type": "markdown",
   "id": "f6583bed",
   "metadata": {},
   "source": [
    "# Pseudocódigo 3 - Algoritmo Bubble Sort"
   ]
  },
  {
   "cell_type": "raw",
   "id": "1e269c71",
   "metadata": {},
   "source": [
    "Um pseudocódigo é uma descrição de alto nível de um algoritmo ou processo que utiliza uma mistura de linguagem natural e elementos de linguagens de programação reais. Ele não segue uma sintaxe específica de uma linguagem de programação e é usado para planejar e entender a lógica de um algoritmo antes de implementá-lo em uma linguagem específica.\n",
    "\n",
    "Aqui está um exemplo de pseudocódigo para o algoritmo Bubble Sort:\n",
    "\n",
    "Bubble Sort Pseudocódigo:"
   ]
  },
  {
   "cell_type": "raw",
   "id": "baa395cf",
   "metadata": {},
   "source": [
    "Função BubbleSort(lista)\n",
    "    n = comprimento da lista\n",
    "    Para i de 0 até n - 1\n",
    "        Para j de 0 até n - 1 - i\n",
    "            Se lista[j] > lista[j + 1] então\n",
    "                Troque lista[j] com lista[j + 1]\n",
    "            Fim Se\n",
    "        Fim Para\n",
    "    Fim Para\n",
    "Fim Função\n"
   ]
  },
  {
   "cell_type": "markdown",
   "id": "54d8ab35",
   "metadata": {},
   "source": [
    "# Convertendo o Pseudocódigo 3 em Programa Python"
   ]
  },
  {
   "cell_type": "code",
   "execution_count": 1,
   "id": "45dc6495",
   "metadata": {},
   "outputs": [
    {
     "name": "stdout",
     "output_type": "stream",
     "text": [
      "Lista original: [64, 34, 25, 12, 22, 11, 90, 20, 35, 38, 15, 150, 220, 36]\n",
      "Lista ordenada: [11, 12, 15, 20, 22, 25, 34, 35, 36, 38, 64, 90, 150, 220]\n"
     ]
    }
   ],
   "source": [
    "def bubble_sort(lista):\n",
    "    n = len(lista)\n",
    "    for i in range(n):\n",
    "        trocou = False\n",
    "        for j in range(0, n - i - 1):\n",
    "            if lista[j] > lista[j + 1]:\n",
    "                # Troca os elementos se estiverem na ordem errada\n",
    "                lista[j], lista[j + 1] = lista[j + 1], lista[j]\n",
    "                trocou = True\n",
    "        # Se nenhum elemento foi trocado durante a passagem, a lista está ordenada\n",
    "        if not trocou:\n",
    "            break\n",
    "    return lista\n",
    "\n",
    "# Exemplo de uso\n",
    "lista = [64, 34, 25, 12, 22, 11, 90,20,35,38,15,150,220,36]\n",
    "print(\"Lista original:\", lista)\n",
    "lista_ordenada = bubble_sort(lista)\n",
    "print(\"Lista ordenada:\", lista_ordenada)\n"
   ]
  },
  {
   "cell_type": "markdown",
   "id": "3bd679f5",
   "metadata": {},
   "source": [
    "# Aqui está o algoritmo Bubble Sort em Python para organizar uma lista de livros por quantidade de páginas, do menor para o maior:"
   ]
  },
  {
   "cell_type": "raw",
   "id": "7393c318",
   "metadata": {},
   "source": [
    "Função BubbleSortPorPaginas(livros)\n",
    "    n = comprimento de livros\n",
    "    Para i de 0 até n - 1\n",
    "        Para j de 0 até n - 1 - i\n",
    "            Se livros[j].paginas > livros[j + 1].paginas então\n",
    "                Troque livros[j] com livros[j + 1]\n",
    "            Fim Se\n",
    "        Fim Para\n",
    "    Fim Para\n",
    "Fim Função\n"
   ]
  },
  {
   "cell_type": "markdown",
   "id": "08d3d65f",
   "metadata": {},
   "source": [
    "Neste pseudocódigo, livros representa uma lista de objetos de livro, onde cada livro tem uma propriedade paginas que indica o número de páginas do livro. O algoritmo Bubble Sort compara a quantidade de páginas de livros adjacentes na lista e os troca se estiverem na ordem errada, ou seja, se o número de páginas do livro livros[j] for maior que o número de páginas do livro livros[j + 1]. O algoritmo continua esse processo até que toda a lista de livros esteja ordenada pelo número de páginas, do menor para o maior."
   ]
  },
  {
   "cell_type": "code",
   "execution_count": 3,
   "id": "1ad5c16b",
   "metadata": {},
   "outputs": [
    {
     "name": "stdout",
     "output_type": "stream",
     "text": [
      "Lista de livros antes da ordenação:\n",
      "Título: Mulheres brilhantes, Páginas: 57, Autor: Augusto Cury\n",
      "Título: Seja líder de si mesmo, Páginas: 128, Autor: Augusto Cury\n",
      "Título: Ego Transformado, Páginas: 48, Autor: Timothy Keller\n",
      "Título: Como evitar problemas na compra de seu carro, Páginas: 126, Autor: Mauro Antonio Panni\n",
      "Título: Teologia Sistemática, Páginas: 720, Autor: Louis Berkhof\n",
      "Título: O vendedor de sonhos, Páginas: 291, Autor: Augusto Cury\n",
      "Título: A Torre Negra, Páginas: 201, Autor: C S Lewis\n",
      "Título: Assassin's Creed Renegado, Páginas: 349, Autor: Oliver Bowden\n",
      "Título: Apóstolos, Páginas: 343, Autor: Augusto Nicodemos Lopes\n",
      "Título: O vendedor de sonhosFogo Estranho, Páginas: 334, Autor: Johon MacArthur\n",
      "Título: O poder da fé em tempos difíceis, Páginas: 176, Autor: Stormie Omartian\n",
      "Título: Desenhando Letras, Páginas: 144, Autor: Juliana Moore\n",
      "Título: Introdução à programação com Python, Páginas: 326, Autor: Nilo Ney Coutinho Menezes\n",
      "Título: Teologia Bíblia, Páginas: 656, Autor: John Goldingay\n",
      "Título: Teologia Sistemática, Páginas: 1232, Autor: Millard J Erickson\n",
      "Título: Introdução à linguagem SQL, Páginas: 136, Autor: \n",
      "Título: Thomas Nield, Páginas: 136, Autor: Thomas Nield\n",
      "Título: Storytelling com Dados, Páginas: 265, Autor: Cole Nussbaumer knaflic\n",
      "\n",
      "Lista de livros após a ordenação:\n",
      "Título: Ego Transformado, Páginas: 48, Autor: Timothy Keller\n",
      "Título: Mulheres brilhantes, Páginas: 57, Autor: Augusto Cury\n",
      "Título: Como evitar problemas na compra de seu carro, Páginas: 126, Autor: Mauro Antonio Panni\n",
      "Título: Seja líder de si mesmo, Páginas: 128, Autor: Augusto Cury\n",
      "Título: Introdução à linguagem SQL, Páginas: 136, Autor: \n",
      "Título: Thomas Nield, Páginas: 136, Autor: Thomas Nield\n",
      "Título: Desenhando Letras, Páginas: 144, Autor: Juliana Moore\n",
      "Título: O poder da fé em tempos difíceis, Páginas: 176, Autor: Stormie Omartian\n",
      "Título: A Torre Negra, Páginas: 201, Autor: C S Lewis\n",
      "Título: Storytelling com Dados, Páginas: 265, Autor: Cole Nussbaumer knaflic\n",
      "Título: O vendedor de sonhos, Páginas: 291, Autor: Augusto Cury\n",
      "Título: Introdução à programação com Python, Páginas: 326, Autor: Nilo Ney Coutinho Menezes\n",
      "Título: O vendedor de sonhosFogo Estranho, Páginas: 334, Autor: Johon MacArthur\n",
      "Título: Apóstolos, Páginas: 343, Autor: Augusto Nicodemos Lopes\n",
      "Título: Assassin's Creed Renegado, Páginas: 349, Autor: Oliver Bowden\n",
      "Título: Teologia Bíblia, Páginas: 656, Autor: John Goldingay\n",
      "Título: Teologia Sistemática, Páginas: 720, Autor: Louis Berkhof\n",
      "Título: Teologia Sistemática, Páginas: 1232, Autor: Millard J Erickson\n"
     ]
    }
   ],
   "source": [
    "class Livro:\n",
    "    def __init__(self, titulo, paginas, autor):\n",
    "        self.titulo = titulo\n",
    "        self.paginas = paginas\n",
    "        self.autor = autor\n",
    "\n",
    "def bubble_sort_por_paginas(livros):\n",
    "    n = len(livros)\n",
    "    for i in range(n):\n",
    "        trocou = False\n",
    "        for j in range(0, n - i - 1):\n",
    "            if livros[j].paginas > livros[j + 1].paginas:\n",
    "                # Troca os livros se estiverem na ordem errada\n",
    "                livros[j], livros[j + 1] = livros[j + 1], livros[j]\n",
    "                trocou = True\n",
    "        # Se nenhum livro foi trocado durante a passagem, a lista está ordenada\n",
    "        if not trocou:\n",
    "            break\n",
    "    return livros\n",
    "\n",
    "# Exemplo de uso\n",
    "livro1 = Livro(\"Mulheres brilhantes\", 57, \"Augusto Cury\")\n",
    "livro2 = Livro(\"Seja líder de si mesmo\", 128, \"Augusto Cury\")\n",
    "livro3 = Livro(\"Ego Transformado\", 48, \"Timothy Keller\")\n",
    "livro4 = Livro(\"Como evitar problemas na compra de seu carro\", 126, \"Mauro Antonio Panni\")\n",
    "livro5 = Livro(\"Teologia Sistemática\", 720, \"Louis Berkhof\")\n",
    "livro6 = Livro(\"O vendedor de sonhos\", 291, \"Augusto Cury\")\n",
    "livro7 = Livro(\"A Torre Negra\", 201, \"C S Lewis\")\n",
    "livro8 = Livro(\"Assassin's Creed Renegado\", 349, \"Oliver Bowden\")\n",
    "livro9 = Livro(\"Apóstolos\", 343, \"Augusto Nicodemos Lopes\")\n",
    "livro10 = Livro(\"O vendedor de sonhosFogo Estranho\", 334, \"Johon MacArthur\")\n",
    "livro11 = Livro(\"O poder da fé em tempos difíceis\", 176, \"Stormie Omartian\")\n",
    "livro12 = Livro(\"Desenhando Letras\",144 , \"Juliana Moore\")\n",
    "livro13 = Livro(\"Introdução à programação com Python\",326 , \"Nilo Ney Coutinho Menezes\")\n",
    "livro14 = Livro(\"Teologia Bíblia\",656 , \"John Goldingay\")\n",
    "livro15 = Livro(\"Teologia Sistemática\",1232 , \"Millard J Erickson\")\n",
    "livro16 = Livro(\"Introdução à linguagem SQL\",136 , \"\")\n",
    "livro17 = Livro(\"Thomas Nield\",136 , \"Thomas Nield\")\n",
    "livro18 = Livro(\"Storytelling com Dados\",265 , \"Cole Nussbaumer knaflic\")\n",
    "\n",
    "livros = [livro1, livro2, livro3, livro4, livro5, livro6, livro7, livro8, livro9, livro10, livro11, livro12, livro13, livro14, livro15,livro16, livro17, livro18]\n",
    "\n",
    "print(\"Lista de livros antes da ordenação:\")\n",
    "for livro in livros:\n",
    "    print(f\"Título: {livro.titulo}, Páginas: {livro.paginas}, Autor: {livro.autor}\")\n",
    "\n",
    "livros_ordenados = bubble_sort_por_paginas(livros)\n",
    "\n",
    "print(\"\\nLista de livros após a ordenação:\")\n",
    "for livro in livros_ordenados:\n",
    "    print(f\"Título: {livro.titulo}, Páginas: {livro.paginas}, Autor: {livro.autor}\")"
   ]
  }
 ],
 "metadata": {
  "kernelspec": {
   "display_name": "Python 3 (ipykernel)",
   "language": "python",
   "name": "python3"
  },
  "language_info": {
   "codemirror_mode": {
    "name": "ipython",
    "version": 3
   },
   "file_extension": ".py",
   "mimetype": "text/x-python",
   "name": "python",
   "nbconvert_exporter": "python",
   "pygments_lexer": "ipython3",
   "version": "3.9.13"
  }
 },
 "nbformat": 4,
 "nbformat_minor": 5
}
