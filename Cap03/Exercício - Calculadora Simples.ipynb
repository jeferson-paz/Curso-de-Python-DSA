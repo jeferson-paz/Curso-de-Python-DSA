{
 "cells": [
  {
   "cell_type": "markdown",
   "id": "2bdf891f",
   "metadata": {},
   "source": [
    "### Pseudocódigo 2 - Calculadora Simples"
   ]
  },
  {
   "cell_type": "markdown",
   "id": "7528c633",
   "metadata": {},
   "source": [
    "Inicio"
   ]
  },
  {
   "cell_type": "raw",
   "id": "f7ff003c",
   "metadata": {},
   "source": [
    "Ler Número1\n",
    "Ler Operação (+, -, *, /)\n",
    "Ler Número2\n",
    "Se Operação é \"+\"\n",
    "Resultado = Número1 + Número2\n",
    "Senão, se Operação é \"-\"\n",
    "Resultado = Número1 - Número2\n",
    "Senão, se Operação é \"*\"\n",
    "Resultado = Número1 * Número2\n",
    "Senão, se Operação é \"/\"\n",
    "Se Número2 é 0\n",
    "Escrever \"Erro! Divisão por zero não é permitida.\"\n",
    "Senão\n",
    "Resultado = Número1 / Número2\n",
    "Escrever Resultado"
   ]
  },
  {
   "cell_type": "markdown",
   "id": "0c65bbfb",
   "metadata": {},
   "source": [
    "Fim"
   ]
  },
  {
   "cell_type": "code",
   "execution_count": 1,
   "id": "417061bc",
   "metadata": {
    "scrolled": true
   },
   "outputs": [
    {
     "name": "stdout",
     "output_type": "stream",
     "text": [
      "Bem-vindo a minha calculadora simples!\n"
     ]
    }
   ],
   "source": [
    "print (\"Bem-vindo a minha calculadora simples!\")"
   ]
  },
  {
   "cell_type": "markdown",
   "id": "9b3942fa",
   "metadata": {},
   "source": [
    "### Solicita ao usuário os números e a operação"
   ]
  },
  {
   "cell_type": "code",
   "execution_count": null,
   "id": "b547b998",
   "metadata": {},
   "outputs": [],
   "source": [
    "numero1 = input(\"Digite o primeiro número: \")\n",
    "numero2 = input(\"Digite o segundo número: \")\n",
    "operacao = input(\"Digite a operação (+, -, *, /): \")"
   ]
  },
  {
   "cell_type": "code",
   "execution_count": null,
   "id": "7e2c2f0c",
   "metadata": {},
   "outputs": [],
   "source": [
    "# Substitui vírgulas por pontos e pontos por vírgulas\n",
    "numero1 = numero1.replace(\",\", \".\")\n",
    "numero2 = numero2.replace(\",\", \".\")\n",
    "\n",
    "# Verifica se os números são válidos\n",
    "try:\n",
    "    numero1 = float(numero1)\n",
    "    numero2 = float(numero2)\n",
    "except ValueError:\n",
    "    print(\"Por favor, insira números válidos.\")\n",
    "else:\n",
    "    # Realiza a operação de acordo com a escolha do usuário\n",
    "    if operacao == \"+\":\n",
    "        resultado = numero1 + numero2\n",
    "        print(f\"Resultado da adição: {resultado}\")\n",
    "    elif operacao == \"-\":\n",
    "        resultado = numero1 - numero2\n",
    "        print(f\"Resultado da subtração: {resultado}\")\n",
    "    elif operacao == \"*\":\n",
    "        resultado = numero1 * numero2\n",
    "        print(f\"Resultado da multiplicação: {resultado}\")\n",
    "    elif operacao == \"/\":\n",
    "        if numero2 == 0:\n",
    "            print(\"Não é possível dividir por zero.\")\n",
    "        else:\n",
    "            resultado = numero1 / numero2\n",
    "            print(f\"Resultado da divisão: {resultado}\")\n",
    "    else:\n",
    "        print(\"Operação inválida.\")"
   ]
  },
  {
   "cell_type": "markdown",
   "id": "a7e87933",
   "metadata": {},
   "source": [
    "# FIM!"
   ]
  }
 ],
 "metadata": {
  "kernelspec": {
   "display_name": "Python 3 (ipykernel)",
   "language": "python",
   "name": "python3"
  },
  "language_info": {
   "codemirror_mode": {
    "name": "ipython",
    "version": 3
   },
   "file_extension": ".py",
   "mimetype": "text/x-python",
   "name": "python",
   "nbconvert_exporter": "python",
   "pygments_lexer": "ipython3",
   "version": "3.11.5"
  }
 },
 "nbformat": 4,
 "nbformat_minor": 5
}
