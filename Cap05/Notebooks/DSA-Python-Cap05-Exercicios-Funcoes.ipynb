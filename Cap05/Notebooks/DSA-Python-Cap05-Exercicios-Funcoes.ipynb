{
 "cells": [
  {
   "cell_type": "markdown",
   "metadata": {},
   "source": [
    "# <font color='blue'>Data Science Academy</font>\n",
    "\n",
    "## <font color='blue'>Fundamentos de Linguagem Python Para Análise de Dados e Data Science</font>\n",
    "\n",
    "## <font color='blue'>Capítulo 5 - Exercicios de Métodos e Funções</font>"
   ]
  },
  {
   "cell_type": "code",
   "execution_count": 19,
   "metadata": {},
   "outputs": [
    {
     "name": "stdout",
     "output_type": "stream",
     "text": [
      "Versão da Linguagem Python Usada Neste Jupyter Notebook: 3.11.5\n"
     ]
    }
   ],
   "source": [
    "# Versão da Linguagem Python\n",
    "from platform import python_version\n",
    "print('Versão da Linguagem Python Usada Neste Jupyter Notebook:', python_version())"
   ]
  },
  {
   "cell_type": "markdown",
   "metadata": {},
   "source": [
    "## Exercícios - Métodos e Funções"
   ]
  },
  {
   "cell_type": "code",
   "execution_count": 20,
   "metadata": {},
   "outputs": [
    {
     "name": "stdout",
     "output_type": "stream",
     "text": [
      "0\n",
      "2\n",
      "4\n",
      "6\n",
      "8\n",
      "10\n"
     ]
    }
   ],
   "source": [
    "# Exercício 1 - Crie uma função que imprima a sequência de números pares entre 1 e 20\n",
    "# (a função não recebe parâmetro) e depois faça uma chamada à função para listar os números\n",
    "\n",
    "# Define a função imprimeNumerosPares\n",
    "def imprimeNumerosPares():\n",
    "    # Loop que itera sobre a sequência de números pares de 0 a 10 (inclusive)\n",
    "    for i in range(0, 11, 2):\n",
    "        # Imprime o número par atual\n",
    "        print(i)\n",
    "\n",
    "# Chama a função para listar os números pares entre 1 e 20\n",
    "imprimeNumerosPares()"
   ]
  },
  {
   "cell_type": "code",
   "execution_count": 21,
   "metadata": {},
   "outputs": [
    {
     "name": "stdout",
     "output_type": "stream",
     "text": [
      "Hello World\n",
      "TEXTO DE EXEMPLO\n"
     ]
    }
   ],
   "source": [
    "# Exercício 2 - Crie uam função que receba uma string como argumento e retorne a mesma string em letras maiúsculas.\n",
    "# Faça uma chamada à função, passando como parâmetro uma string\n",
    "\n",
    "def textoFunc(texto):\n",
    "    # Esta função recebe um parâmetro chamado 'texto', mas a variável é reatribuída dentro da função\n",
    "    texto = \"Hello World\"\n",
    "    \n",
    "    # O método upper() é chamado, mas o resultado não é armazenado ou utilizado\n",
    "    texto.upper()\n",
    "    \n",
    "    # Imprime o 'texto' que foi reatribuído, mas não convertido para maiúsculas\n",
    "    print(texto)\n",
    "\n",
    "# Chama a função passando um argumento (que será ignorado dentro da função)\n",
    "textoFunc(\"Texto de Exemplo\")\n",
    "\n",
    "def textoFunc(texto):\n",
    "    texto = texto.upper()  # Converte o texto para maiúsculas e atribui de volta à variável\n",
    "    print(texto)\n",
    "\n",
    "# Chama a função passando um argumento\n",
    "textoFunc(\"Texto de Exemplo\")"
   ]
  },
  {
   "cell_type": "code",
   "execution_count": 22,
   "metadata": {},
   "outputs": [
    {
     "name": "stdout",
     "output_type": "stream",
     "text": [
      "['Ana', 'Paulo', 'Samuel', 'Thiago', 'Rafael', 'Jeferson']\n"
     ]
    }
   ],
   "source": [
    "# Exercício 3 - Crie uma função que receba como parâmetro uma lista de 4 elementos, adicione 2 elementos a lista e \n",
    "# imprima a lista\n",
    "\n",
    "def listaFunc():\n",
    "    # Cria uma lista chamada lista_1 com alguns nomes\n",
    "    lista_1 = [\"Ana\", \"Paulo\", \"Samuel\", \"Thiago\"]\n",
    "\n",
    "    # Adiciona \"Rafael\" ao final da lista\n",
    "    lista_1.append(\"Rafael\")\n",
    "\n",
    "    # Adiciona \"Jeferson\" ao final da lista\n",
    "    lista_1.append(\"Jeferson\")\n",
    "\n",
    "    # Imprime a lista_1 após as adições\n",
    "    print(lista_1)\n",
    "\n",
    "# Chama a função listaFunc()\n",
    "listaFunc()"
   ]
  },
  {
   "cell_type": "code",
   "execution_count": 23,
   "metadata": {},
   "outputs": [
    {
     "name": "stdout",
     "output_type": "stream",
     "text": [
      "O elemento informado foi:  Jeferson\n",
      "O elemento informado foi:  Jeferson\n",
      "O elemento informado foi:  Rafael\n",
      "O elemento informado foi:  Samuel\n",
      "O elemento informado foi:  Valéria\n"
     ]
    }
   ],
   "source": [
    "# Exercício 4 - Crie uma função que receba um argumento formal e uma possível lista de elementos. Faça duas chamadas \n",
    "# à função, com apenas 1 elemento e na segunda chamada com 4 elementos\n",
    "\n",
    "def formalFunc(argumento, *lista):\n",
    "    # Imprime o argumento passado\n",
    "    print(\"O elemento informado foi: \", argumento)\n",
    "\n",
    "    # Itera sobre os elementos da lista e os imprime\n",
    "    for item in lista:\n",
    "        print(\"O elemento informado foi: \", item)\n",
    "\n",
    "    return\n",
    "\n",
    "# Chama a função formalFunc com um único argumento\n",
    "formalFunc('Jeferson')\n",
    "\n",
    "# Chama a função formalFunc com múltiplos argumentos usando a funcionalidade *lista\n",
    "formalFunc('Jeferson', 'Rafael', 'Samuel', 'Valéria')"
   ]
  },
  {
   "cell_type": "code",
   "execution_count": 24,
   "metadata": {},
   "outputs": [
    {
     "name": "stdout",
     "output_type": "stream",
     "text": [
      "30.5\n"
     ]
    }
   ],
   "source": [
    "# Exercício 5 - Crie uma função anônima e atribua seu retorno a uma variável chamada soma. A expressão vai receber 2 \n",
    "# números como parâmetro e retornar a soma deles\n",
    "\n",
    "soma = lambda num: +num  # Correção: A função lambda pode ser simplificada, removendo o operador \"+\"\n",
    "\n",
    "resultado = soma(float(10.5 + 20))  # Correção: Adiciona parênteses para garantir a ordem de operações\n",
    "\n",
    "print(resultado)"
   ]
  },
  {
   "cell_type": "code",
   "execution_count": 25,
   "metadata": {},
   "outputs": [
    {
     "name": "stdout",
     "output_type": "stream",
     "text": [
      "Dentro da função o total é:  30\n",
      "Fora da função o total é:  0\n"
     ]
    }
   ],
   "source": [
    "# Exercício 6 - Execute o código abaixo e certifique-se que compreende a diferença entre variável global e local\n",
    "\n",
    "total = 0  # Variável global inicializada com valor zero\n",
    "\n",
    "# Define uma função chamada 'soma' com dois parâmetros 'arg1' e 'arg2'\n",
    "def soma(arg1, arg2):\n",
    "    total = arg1 + arg2  # Variável local 'total' é criada e recebe a soma de 'arg1' e 'arg2'\n",
    "    print(\"Dentro da função o total é: \", total)  # Imprime o total dentro da função\n",
    "    return total  # Retorna o total calculado\n",
    "\n",
    "# Chama a função 'soma' com argumentos 10 e 20\n",
    "soma(10, 20)\n",
    "\n",
    "print(\"Fora da função o total é: \", total)  # Imprime o valor da variável global 'total'"
   ]
  },
  {
   "cell_type": "code",
   "execution_count": 26,
   "metadata": {},
   "outputs": [
    {
     "name": "stdout",
     "output_type": "stream",
     "text": [
      "[102.56, 97.7, 99.14, 100.03999999999999]\n"
     ]
    }
   ],
   "source": [
    "# Exercício 7 - Abaixo você encontra uma lista com temperaturas em graus Celsius\n",
    "# Crie uma função anônima que converta cada temperatura para Fahrenheit\n",
    "# Dica: para conseguir realizar este exercício, você deve criar sua função lambda, dentro de uma função \n",
    "# (que será estudada no próximo capítulo). Isso permite aplicar sua função a cada elemento da lista\n",
    "# Como descobrir a fórmula matemática que converte de Celsius para Fahrenheit? Pesquise!!!\n",
    "\n",
    "# Lista de temperaturas em graus Celsius\n",
    "Celsius = [39.2, 36.5, 37.3, 37.8]\n",
    "\n",
    "# Função lambda para converter Celsius para Fahrenheit\n",
    "Fahrenheit = lambda celsius: (celsius * 9/5) + 32\n",
    "\n",
    "# Aplica a função lambda a cada elemento da lista Celsius usando a função map\n",
    "temperaturas_em_fahrenheit = list(map(Fahrenheit, Celsius))\n",
    "\n",
    "# Imprime a lista resultante das temperaturas em Fahrenheit\n",
    "print(temperaturas_em_fahrenheit)"
   ]
  },
  {
   "cell_type": "code",
   "execution_count": 27,
   "metadata": {},
   "outputs": [
    {
     "name": "stdout",
     "output_type": "stream",
     "text": [
      "[1, 4, 9, 16, 25, 36, 49, 64, 81, 100]\n"
     ]
    }
   ],
   "source": [
    "# Exercício 8 - Crie uma list comprehension que imprima o quadrado dos números de 1 a 10\n",
    "\n",
    "# Expressão de compreensão de lista que gera uma lista dos quadrados dos números de 1 a 10\n",
    "quadrados = [x**2 for x in range(1, 11)]\n",
    "\n",
    "# Imprime a lista resultante\n",
    "print(quadrados)"
   ]
  },
  {
   "cell_type": "code",
   "execution_count": 28,
   "metadata": {},
   "outputs": [
    {
     "name": "stdout",
     "output_type": "stream",
     "text": [
      "['maça', 'abacate', 'banana', 'ajuda']\n"
     ]
    }
   ],
   "source": [
    "# Exercício 9 - Crie uma list comprehension que imprima as palavras com a letra a no nome\n",
    "\n",
    "# Lista de palavras\n",
    "Lista_palavras1 = [\"maça\", \"abacate\", \"banana\", \"terreno\", \"Python\", \"ajuda\"]\n",
    "\n",
    "# Lista que será preenchida com palavras que contêm a letra 'a'\n",
    "palavras2 = []\n",
    "\n",
    "# Loop que itera sobre cada palavra na Lista_palavras1\n",
    "for x in Lista_palavras1:\n",
    "    # Verifica se a letra 'a' está presente em cada palavra\n",
    "    if \"a\" in x:\n",
    "        # Se a letra 'a' está presente, adiciona a palavra à palavras2\n",
    "        palavras2.append(x)\n",
    "\n",
    "# Imprime a lista de palavras que contêm a letra 'a'\n",
    "print(palavras2)"
   ]
  },
  {
   "cell_type": "code",
   "execution_count": 29,
   "metadata": {},
   "outputs": [
    {
     "name": "stdout",
     "output_type": "stream",
     "text": [
      "[0, 1, 2, 3, 4]\n"
     ]
    }
   ],
   "source": [
    "# Exercício 10 - Crie uma list comprehension que imprima os números menores que 5 em um intervalo de 1 a 10\n",
    "\n",
    "# Expressão de compreensão de lista que cria uma lista dos números de 0 a 9 menores que 5\n",
    "Exercicio_10 = [x for x in range(10) if x < 5]\n",
    "\n",
    "# Imprime a lista resultante\n",
    "print(Exercicio_10)"
   ]
  },
  {
   "cell_type": "markdown",
   "metadata": {},
   "source": [
    "# Fim"
   ]
  },
  {
   "cell_type": "markdown",
   "metadata": {},
   "source": [
    "### Obrigado\n",
    "\n",
    "### Visite o Blog da Data Science Academy - <a href=\"http://blog.dsacademy.com.br\">Blog DSA</a>"
   ]
  }
 ],
 "metadata": {
  "kernelspec": {
   "display_name": "Python 3 (ipykernel)",
   "language": "python",
   "name": "python3"
  },
  "language_info": {
   "codemirror_mode": {
    "name": "ipython",
    "version": 3
   },
   "file_extension": ".py",
   "mimetype": "text/x-python",
   "name": "python",
   "nbconvert_exporter": "python",
   "pygments_lexer": "ipython3",
   "version": "3.11.5"
  }
 },
 "nbformat": 4,
 "nbformat_minor": 1
}
