{
 "cells": [
  {
   "cell_type": "markdown",
   "metadata": {},
   "source": [
    "# <font color='blue'>Data Science Academy</font>\n",
    "\n",
    "## <font color='blue'>Fundamentos de Linguagem Python Para Análise de Dados e Data Science</font>\n",
    "\n",
    "## <font color='blue'>Capítulo 5 - Exercícios de Loops e Condicionais</font>"
   ]
  },
  {
   "cell_type": "code",
   "execution_count": 1,
   "metadata": {},
   "outputs": [
    {
     "name": "stdout",
     "output_type": "stream",
     "text": [
      "Versão da Linguagem Python Usada Neste Jupyter Notebook: 3.11.5\n"
     ]
    }
   ],
   "source": [
    "# Versão da Linguagem Python\n",
    "from platform import python_version\n",
    "print('Versão da Linguagem Python Usada Neste Jupyter Notebook:', python_version())"
   ]
  },
  {
   "cell_type": "markdown",
   "metadata": {},
   "source": [
    "## Exercícios - Loops e Condiconais"
   ]
  },
  {
   "cell_type": "code",
   "execution_count": 13,
   "metadata": {},
   "outputs": [
    {
     "name": "stdout",
     "output_type": "stream",
     "text": [
      "Qual dia da semana? Domingo\n",
      "Hoje é dia de descanso!\n"
     ]
    }
   ],
   "source": [
    "# Solicita ao usuário que insira um dia da semana\n",
    "dia = input(\"Qual dia da semana? \")\n",
    "\n",
    "# Verifica se o dia é um dia útil (Segunda a Sexta-feira)\n",
    "if dia == \"Segunda\" or dia == \"Terça\" or dia == \"Quarta\" or dia == \"Quinta\" or dia == \"Sexta\":\n",
    "    print(\"Você precisa trabalhar!\")\n",
    "\n",
    "# Se não for um dia útil, verifica se é um final de semana (Sábado ou Domingo)\n",
    "elif dia == \"Sábado\" or dia == \"Domingo\":\n",
    "    print(\"Hoje é dia de descanso!\")\n",
    "\n",
    "# Se o dia não corresponder a nenhum dos casos anteriores, imprime uma mensagem de dia inválido\n",
    "else:\n",
    "    print(\"Dia inválido. Por favor, insira um dia válido da semana.\")\n"
   ]
  },
  {
   "cell_type": "code",
   "execution_count": 14,
   "metadata": {},
   "outputs": [
    {
     "name": "stdout",
     "output_type": "stream",
     "text": [
      "['Morango']\n"
     ]
    }
   ],
   "source": [
    "# Exercício 2 - Crie uma lista de 5 frutas e verifique se a fruta 'Morango' faz parte da lista\n",
    "Lista_frutas = [\"Morango\", \"Banana\", \"Maça\", \"Maracuja\", \"Laranja\"]\n",
    "\n",
    "fruta = []\n",
    "\n",
    "for x in Lista_frutas:\n",
    "    if \"Morango\" in x:\n",
    "        fruta.append(x)\n",
    "        \n",
    "print(fruta)"
   ]
  },
  {
   "cell_type": "code",
   "execution_count": 15,
   "metadata": {},
   "outputs": [
    {
     "name": "stdout",
     "output_type": "stream",
     "text": [
      "[4, 6, 8, 10]\n"
     ]
    }
   ],
   "source": [
    "# Exercício 3 - Crie uma tupla de 4 elementos, multiplique cada elemento da tupla por 2 e guarde os resultados em uma lista\n",
    "\n",
    "# Defina uma tupla com 4 elementos\n",
    "Tupla_04 = (2, 3, 4, 5)\n",
    "\n",
    "# Crie uma lista para armazenar os resultados\n",
    "resultados = []\n",
    "\n",
    "# Itera sobre cada elemento da tupla\n",
    "for num in Tupla_04:\n",
    "    # Multiplica cada elemento por 2\n",
    "    resultado = num * 2\n",
    "    \n",
    "    # Verifica se o resultado é par\n",
    "    if resultado % 2 == 0:\n",
    "        # Adiciona o resultado à lista\n",
    "        resultados.append(resultado)\n",
    "\n",
    "# Imprime a lista final com os resultados\n",
    "print(resultados)"
   ]
  },
  {
   "cell_type": "code",
   "execution_count": 21,
   "metadata": {},
   "outputs": [
    {
     "name": "stdout",
     "output_type": "stream",
     "text": [
      "100\n",
      "102\n",
      "104\n",
      "106\n",
      "108\n",
      "110\n",
      "112\n",
      "114\n",
      "116\n",
      "118\n",
      "120\n",
      "122\n",
      "124\n",
      "126\n",
      "128\n",
      "130\n",
      "132\n",
      "134\n",
      "136\n",
      "138\n",
      "140\n",
      "142\n",
      "144\n",
      "146\n",
      "148\n",
      "150\n"
     ]
    }
   ],
   "source": [
    "# Exercício 4 - Crie uma sequência de números pares entre 100 e 150 e imprima na tela\n",
    "\n",
    "# Loop que itera sobre os números de 100 a 150 (inclusive) com passo de 2\n",
    "for i in range(100, 151, 2):\n",
    "    # Imprime cada número durante a iteração\n",
    "    print(i)"
   ]
  },
  {
   "cell_type": "code",
   "execution_count": 35,
   "metadata": {},
   "outputs": [
    {
     "name": "stdout",
     "output_type": "stream",
     "text": [
      "40\n"
     ]
    }
   ],
   "source": [
    "# Exercício 5 - Crie uma variável chamada temperatura e atribua o valor 40. Enquanto temperatura for maior que 35, \n",
    "# imprima as temperaturas na tela\n",
    "\n",
    "# Atribui o valor 40 à variável temperatura\n",
    "temperatura = 40\n",
    "\n",
    "# Verifica se a temperatura é maior que 35\n",
    "if temperatura > 35:\n",
    "    # Se a condição for verdadeira, imprime a temperatura\n",
    "    print(temperatura)"
   ]
  },
  {
   "cell_type": "code",
   "execution_count": 37,
   "metadata": {},
   "outputs": [
    {
     "name": "stdout",
     "output_type": "stream",
     "text": [
      "0\n",
      "1\n",
      "2\n",
      "3\n",
      "4\n",
      "5\n",
      "6\n",
      "7\n",
      "8\n",
      "9\n",
      "10\n",
      "11\n",
      "12\n",
      "13\n",
      "14\n",
      "15\n",
      "16\n",
      "17\n",
      "18\n",
      "19\n",
      "20\n",
      "21\n",
      "22\n"
     ]
    }
   ],
   "source": [
    "# Exercício 6 - Crie uma variável chamada contador = 0. Enquanto counter for menor que 100, imprima os valores na tela,\n",
    "# mas quando for encontrado o valor 23, interrompa a execução do programa\n",
    "\n",
    "# Inicializa a variável contador com o valor 0\n",
    "contador = 0\n",
    "\n",
    "# Inicia um loop while que continua enquanto contador for menor que 100\n",
    "while contador < 100:\n",
    "    # Verifica se o contador é igual a 23\n",
    "    if contador == 23:\n",
    "        # Se a condição for verdadeira, interrompe o loop usando 'break'\n",
    "        break\n",
    "    else:\n",
    "        # Se o contador não for igual a 23, continua para a próxima iteração do loop\n",
    "        pass\n",
    "    \n",
    "    # Imprime o valor do contador\n",
    "    print(contador)\n",
    "    \n",
    "    # Incrementa o contador em 1\n",
    "    contador = contador + 1"
   ]
  },
  {
   "cell_type": "code",
   "execution_count": 38,
   "metadata": {},
   "outputs": [
    {
     "name": "stdout",
     "output_type": "stream",
     "text": [
      "[4, 6, 8, 10, 12, 14, 16, 18, 20]\n"
     ]
    }
   ],
   "source": [
    "# Exercício 7 - Crie uma lista vazia e uma variável com valor 4. Enquanto o valor da variável for menor ou igual a 20, \n",
    "# adicione à lista, apenas os valores pares e imprima a lista\n",
    "\n",
    "# Cria uma lista vazia\n",
    "lista_pares = []\n",
    "\n",
    "# Inicializa uma variável com valor 4\n",
    "valor = 4\n",
    "\n",
    "# Enquanto o valor da variável for menor ou igual a 20\n",
    "while valor <= 20:\n",
    "    # Verifica se o valor é par\n",
    "    if valor % 2 == 0:\n",
    "        # Se for par, adiciona à lista\n",
    "        lista_pares.append(valor)\n",
    "    \n",
    "    # Incrementa o valor em 1 para a próxima iteração\n",
    "    valor += 1\n",
    "\n",
    "# Imprime a lista de valores pares\n",
    "print(lista_pares)"
   ]
  },
  {
   "cell_type": "code",
   "execution_count": 39,
   "metadata": {},
   "outputs": [
    {
     "name": "stdout",
     "output_type": "stream",
     "text": [
      "[5, 7, 9, 11, 13, 15, 17, 19, 21, 23, 25, 27, 29, 31, 33, 35, 37, 39, 41, 43]\n"
     ]
    }
   ],
   "source": [
    "# Exercício 8 - Transforme o resultado desta função range em uma lista: range(5, 45, 2)\n",
    "nums = range(5, 45, 2)\n",
    "\n",
    "# Cria um objeto range com passo 2, começando de 5 e indo até (mas não incluindo) 45\n",
    "nums = range(5, 45, 2)\n",
    "\n",
    "# Converte o objeto range para uma lista\n",
    "lista_nums = list(nums)\n",
    "\n",
    "# Imprime a lista resultante\n",
    "print(lista_nums)"
   ]
  },
  {
   "cell_type": "code",
   "execution_count": 10,
   "metadata": {},
   "outputs": [
    {
     "ename": "SyntaxError",
     "evalue": "expected ':' (237823629.py, line 3)",
     "output_type": "error",
     "traceback": [
      "\u001b[1;36m  Cell \u001b[1;32mIn[10], line 3\u001b[1;36m\u001b[0m\n\u001b[1;33m    if temperatura > 30\u001b[0m\n\u001b[1;37m                       ^\u001b[0m\n\u001b[1;31mSyntaxError\u001b[0m\u001b[1;31m:\u001b[0m expected ':'\n"
     ]
    }
   ],
   "source": [
    "# Exercício 9 - Faça a correção dos erros no código abaixo e execute o programa. Dica: são 3 erros.\n",
    "temperatura = float(input('Qual a temperatura? '))\n",
    "if temperatura > 30\n",
    "print('Vista roupas leves.')\n",
    "else\n",
    "    print('Busque seus casacos.')"
   ]
  },
  {
   "cell_type": "code",
   "execution_count": 40,
   "metadata": {},
   "outputs": [
    {
     "name": "stdout",
     "output_type": "stream",
     "text": [
      "Qual a temperatura? 10\n",
      "Busque seus casacos.\n"
     ]
    }
   ],
   "source": [
    "temperatura = float(input('Qual a temperatura? '))\n",
    "\n",
    "# Correção: Adiciona dois pontos após a condição do 'if'\n",
    "if temperatura > 30:\n",
    "    print('Vista roupas leves.')\n",
    "# Correção: Adiciona a palavra-chave 'elif' para tratar a condição contrária\n",
    "else:\n",
    "    print('Busque seus casacos.')"
   ]
  },
  {
   "cell_type": "code",
   "execution_count": null,
   "metadata": {},
   "outputs": [],
   "source": [
    "# Exercício 10 - Faça um programa que conte quantas vezes a letra \"r\" aparece na frase abaixo. Use um placeholder na \n",
    "# sua instrução de impressão\n",
    "\n",
    "# “A gratidão é a virtude das almas nobres. O quão feliz é uma pessoa depende da profundidade de sua gratidão.” \n",
    "\n",
    "frase = \"A gratidão é a virtude das almas nobres. O quão feliz é uma pessoa depende da profundidade de sua gratidão.\" "
   ]
  },
  {
   "cell_type": "code",
   "execution_count": 41,
   "metadata": {},
   "outputs": [
    {
     "name": "stdout",
     "output_type": "stream",
     "text": [
      "A letra 'r' aparece 5 vezes na frase.\n"
     ]
    }
   ],
   "source": [
    "frase = \"A gratidão é a virtude das almas nobres. O quão feliz é uma pessoa depende da profundidade de sua gratidão.\"\n",
    "\n",
    "# Inicializa o contador para a letra 'r'\n",
    "contador_r = 0\n",
    "\n",
    "# Itera sobre cada caractere na frase\n",
    "for caractere in frase:\n",
    "    # Verifica se o caractere é 'r' (minúsculo ou maiúsculo)\n",
    "    if caractere.lower() == 'r':\n",
    "        # Incrementa o contador se for 'r'\n",
    "        contador_r += 1\n",
    "\n",
    "# Imprime o resultado usando um placeholder\n",
    "print(\"A letra 'r' aparece %d vezes na frase.\" % contador_r)"
   ]
  },
  {
   "cell_type": "markdown",
   "metadata": {},
   "source": [
    "# Fim"
   ]
  },
  {
   "cell_type": "markdown",
   "metadata": {},
   "source": [
    "### Obrigado\n",
    "\n",
    "### Visite o Blog da Data Science Academy - <a href=\"http://blog.dsacademy.com.br\">Blog DSA</a>"
   ]
  }
 ],
 "metadata": {
  "kernelspec": {
   "display_name": "Python 3 (ipykernel)",
   "language": "python",
   "name": "python3"
  },
  "language_info": {
   "codemirror_mode": {
    "name": "ipython",
    "version": 3
   },
   "file_extension": ".py",
   "mimetype": "text/x-python",
   "name": "python",
   "nbconvert_exporter": "python",
   "pygments_lexer": "ipython3",
   "version": "3.11.5"
  }
 },
 "nbformat": 4,
 "nbformat_minor": 1
}
