{
 "cells": [
  {
   "cell_type": "markdown",
   "metadata": {},
   "source": [
    "# <font color='blue'>Data Science Academy</font>\n",
    "\n",
    "## <font color='blue'>Fundamentos de Linguagem Python Para Análise de Dados e Data Science</font>\n",
    "\n",
    "## <font color='blue'>Capítulo 6 - Exercícios</font>"
   ]
  },
  {
   "cell_type": "code",
   "execution_count": null,
   "metadata": {},
   "outputs": [],
   "source": [
    "# Versão da Linguagem Python\n",
    "from platform import python_version\n",
    "print('Versão da Linguagem Python Usada Neste Jupyter Notebook:', python_version())"
   ]
  },
  {
   "cell_type": "markdown",
   "metadata": {},
   "source": [
    "## Exercícios "
   ]
  },
  {
   "cell_type": "code",
   "execution_count": 1,
   "metadata": {},
   "outputs": [
    {
     "name": "stdout",
     "output_type": "stream",
     "text": [
      "[1, 8, 27]\n"
     ]
    }
   ],
   "source": [
    "# Exercício 1 - Crie uma lista de 3 elementos e calcule a terceira potência de cada elemento.\n",
    "def potencia(x):\n",
    "    return x ** 3\n",
    "numeros = [1,2,3]\n",
    "numeros_a_terceita_potencia = list(map(potencia, numeros))\n",
    "print(numeros_a_terceita_potencia)"
   ]
  },
  {
   "cell_type": "code",
   "execution_count": 2,
   "metadata": {
    "scrolled": false
   },
   "outputs": [
    {
     "name": "stdout",
     "output_type": "stream",
     "text": [
      "['A', 'a', 1]\n",
      "['DATA', 'data', 4]\n",
      "['SCIENCE', 'science', 7]\n",
      "['ACADEMY', 'academy', 7]\n",
      "['OFERCE', 'oferce', 6]\n",
      "['OS', 'os', 2]\n",
      "['MELHORES', 'melhores', 8]\n",
      "['CURSOS', 'cursos', 6]\n",
      "['DE', 'de', 2]\n",
      "['ANÁLISE', 'análise', 7]\n",
      "['DE', 'de', 2]\n",
      "['DADOS', 'dados', 5]\n",
      "['DO', 'do', 2]\n",
      "['BRASIL.', 'brasil.', 7]\n"
     ]
    }
   ],
   "source": [
    "# Exercício 2 - Reescreva o código abaixo, usando a função map(). O resultado final deve ser o mesmo!\n",
    "palavras = 'A Data Science Academy oferce os melhores cursos de análise de dados do Brasil.'.split()\n",
    "resultado = [[w.upper(), w.lower(), len(w)] for w in palavras]\n",
    "for i in resultado:\n",
    "    print (i)"
   ]
  },
  {
   "cell_type": "code",
   "execution_count": 3,
   "metadata": {},
   "outputs": [
    {
     "name": "stdout",
     "output_type": "stream",
     "text": [
      "['A', 'a', 1]\n",
      "['DATA', 'data', 4]\n",
      "['SCIENCE', 'science', 7]\n",
      "['ACADEMY', 'academy', 7]\n",
      "['OFERECE', 'oferece', 7]\n",
      "['OS', 'os', 2]\n",
      "['MELHORES', 'melhores', 8]\n",
      "['CURSOS', 'cursos', 6]\n",
      "['DE', 'de', 2]\n",
      "['ANÁLISE', 'análise', 7]\n",
      "['DE', 'de', 2]\n",
      "['DADOS', 'dados', 5]\n",
      "['DO', 'do', 2]\n",
      "['BRASIL.', 'brasil.', 7]\n"
     ]
    }
   ],
   "source": [
    "# Solução\n",
    "palavras = 'A Data Science Academy oferece os melhores cursos de análise de dados do Brasil.'.split()\n",
    "\n",
    "def processar_palavra(w):\n",
    "    return [w.upper(), w.lower(), len(w)]\n",
    "\n",
    "resultado = list(map(processar_palavra, palavras))\n",
    "\n",
    "for i in resultado:\n",
    "    print(i)"
   ]
  },
  {
   "cell_type": "code",
   "execution_count": 5,
   "metadata": {},
   "outputs": [
    {
     "name": "stdout",
     "output_type": "stream",
     "text": [
      "[1, 3, 5, 7]\n",
      "[2, 4, 6, 8]\n"
     ]
    }
   ],
   "source": [
    "# Exercício 3 - Calcule a matriz transposta da matriz abaixo.\n",
    "# Caso não saiba o que é matriz transposta, visite este link: https://pt.wikipedia.org/wiki/Matriz_transposta\n",
    "# Matriz transposta é um conceito fundamental na construção de redes neurais artificiais, base de sistemas de IA.\n",
    "matrix = [[1, 2], [3, 4], [5, 6], [7, 8]]\n",
    "transposta = [[row[i] for row in matrix] for i in range(len(matrix[0]))]\n",
    "\n",
    "for linha in transposta:\n",
    "    print(linha)"
   ]
  },
  {
   "cell_type": "code",
   "execution_count": 6,
   "metadata": {},
   "outputs": [
    {
     "name": "stdout",
     "output_type": "stream",
     "text": [
      "(0, 0)\n",
      "(1, 1)\n",
      "(4, 8)\n",
      "(9, 27)\n",
      "(16, 64)\n"
     ]
    }
   ],
   "source": [
    "# Exercício 4 - Crie duas funções, uma para elevar um número ao quadrado e outra para elevar ao cubo. \n",
    "# Aplique as duas funções aos elementos da lista abaixo. \n",
    "# Obs: as duas funções devem ser aplicadas simultaneamente.\n",
    "lista = [0, 1, 2, 3, 4]\n",
    "\n",
    "def ao_quadrado(x):\n",
    "    return x ** 2\n",
    "\n",
    "def ao_cubo(x):\n",
    "    return x ** 3\n",
    "\n",
    "lista = [0, 1, 2, 3, 4]\n",
    "\n",
    "resultado = list(map(lambda x: (ao_quadrado(x), ao_cubo(x)), lista))\n",
    "\n",
    "for i in resultado:\n",
    "    print(i)"
   ]
  },
  {
   "cell_type": "code",
   "execution_count": 8,
   "metadata": {},
   "outputs": [
    {
     "name": "stdout",
     "output_type": "stream",
     "text": [
      "[1024, 177147, 16777216]\n"
     ]
    }
   ],
   "source": [
    "# Exercício 5 - Abaixo você encontra duas listas. Faça com que cada elemento da listaA seja elevado \n",
    "# ao elemento correspondente na listaB.\n",
    "listaA = [2, 3, 4]\n",
    "listaB = [10, 11, 12]\n",
    "\n",
    "resultado = list(map(pow, listaA, listaB))\n",
    "\n",
    "print(resultado)\n"
   ]
  },
  {
   "cell_type": "code",
   "execution_count": 9,
   "metadata": {},
   "outputs": [
    {
     "name": "stdout",
     "output_type": "stream",
     "text": [
      "[-5, -4, -3, -2, -1]\n"
     ]
    }
   ],
   "source": [
    "# Exercício 6 - Considerando o range de valores abaixo, use a função filter() para retornar \n",
    "# apenas os valores negativos.\n",
    "range(-5, 5)\n",
    "\n",
    "valores = range(-5, 5)\n",
    "negativos = list(filter(lambda x: x < 0, valores))\n",
    "\n",
    "print(negativos)\n"
   ]
  },
  {
   "cell_type": "code",
   "execution_count": 10,
   "metadata": {},
   "outputs": [
    {
     "name": "stdout",
     "output_type": "stream",
     "text": [
      "[2, 3, 5, 7]\n"
     ]
    }
   ],
   "source": [
    "# Exercício 7 - Usando a função filter(), encontre os valores que são comuns às duas listas abaixo.\n",
    "a = [1,2,3,5,7,9]\n",
    "b = [2,3,5,6,7,8]\n",
    "\n",
    "valores_comuns = list(filter(lambda x: x in a, b))\n",
    "\n",
    "print(valores_comuns)\n"
   ]
  },
  {
   "cell_type": "code",
   "execution_count": 11,
   "metadata": {},
   "outputs": [
    {
     "name": "stdout",
     "output_type": "stream",
     "text": [
      "{'a': 4, 'b': 5}\n"
     ]
    }
   ],
   "source": [
    "# Exercício 8 - Considere os dois dicionários abaixo. \n",
    "# Crie um terceiro dicionário com as chaves do dicionário 1 e os valores do dicionário 2.\n",
    "dict1 = {'a':1,'b':2}\n",
    "dict2 = {'c':4,'d':5}\n",
    "\n",
    "dict3 = {chave: valor for chave, valor in zip(dict1.keys(), dict2.values())}\n",
    "\n",
    "print(dict3)\n"
   ]
  },
  {
   "cell_type": "code",
   "execution_count": 12,
   "metadata": {},
   "outputs": [
    {
     "name": "stdout",
     "output_type": "stream",
     "text": [
      "['g', 'h']\n"
     ]
    }
   ],
   "source": [
    "# Exercício 9 - Considere a lista abaixo e retorne apenas os elementos cujo índice for maior que 5.\n",
    "lista = ['a', 'b', 'c', 'd', 'e', 'f', 'g', 'h']\n",
    "\n",
    "resultados = [valor for indice, valor in enumerate(lista) if indice > 5]\n",
    "\n",
    "print(resultados)\n"
   ]
  },
  {
   "cell_type": "code",
   "execution_count": 17,
   "metadata": {},
   "outputs": [
    {
     "name": "stdout",
     "output_type": "stream",
     "text": [
      "A palavra após 'Data Science' é: Academy\n"
     ]
    }
   ],
   "source": [
    "# Exercício 10 - Crie um regex em Python para extrair a palavra que aparece depois das palavras \n",
    "# Data e Science na frase: 'A Data Science Academy oferce os melhores cursos de análise de dados do Brasil.'\n",
    "import re\n",
    "texto = 'A Data Science Academy oferece os melhores cursos de análise de dados do Brasil.'\n",
    "resultado = re.findall(r'Data Science (\\w+)', texto)\n",
    "print(\"A palavra após 'Data Science' é:\", resultado[0])"
   ]
  },
  {
   "cell_type": "markdown",
   "metadata": {},
   "source": [
    "# Fim"
   ]
  },
  {
   "cell_type": "markdown",
   "metadata": {},
   "source": [
    "### Obrigado\n",
    "\n",
    "### Visite o Blog da Data Science Academy - <a href=\"http://blog.dsacademy.com.br\">Blog DSA</a>"
   ]
  },
  {
   "cell_type": "code",
   "execution_count": null,
   "metadata": {},
   "outputs": [],
   "source": []
  }
 ],
 "metadata": {
  "kernelspec": {
   "display_name": "Python 3 (ipykernel)",
   "language": "python",
   "name": "python3"
  },
  "language_info": {
   "codemirror_mode": {
    "name": "ipython",
    "version": 3
   },
   "file_extension": ".py",
   "mimetype": "text/x-python",
   "name": "python",
   "nbconvert_exporter": "python",
   "pygments_lexer": "ipython3",
   "version": "3.11.5"
  }
 },
 "nbformat": 4,
 "nbformat_minor": 1
}
