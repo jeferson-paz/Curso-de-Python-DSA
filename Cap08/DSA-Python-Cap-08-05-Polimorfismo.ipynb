{
 "cells": [
  {
   "cell_type": "markdown",
   "id": "bd1e3add-d931-4953-924a-89226abe4093",
   "metadata": {},
   "source": [
    "# <font color='blue'>Data Science Academy</font>\n",
    "\n",
    "## <font color='blue'>Fundamentos de Linguagem Python Para Análise de Dados e Data Science</font>\n",
    "\n",
    "## <font color='blue'>Introdução à Programação Orientada a Objetos</font>"
   ]
  },
  {
   "cell_type": "code",
   "execution_count": 1,
   "id": "82078869-a6ff-49d3-8e85-a08b48d9f963",
   "metadata": {},
   "outputs": [
    {
     "name": "stdout",
     "output_type": "stream",
     "text": [
      "Versão da Linguagem Python Usada Neste Jupyter Notebook: 3.11.7\n"
     ]
    }
   ],
   "source": [
    "# Versão da Linguagem Python\n",
    "from platform import python_version\n",
    "print('Versão da Linguagem Python Usada Neste Jupyter Notebook:', python_version())"
   ]
  },
  {
   "cell_type": "markdown",
   "id": "9a54e203-247e-4cbd-a03a-c32319a3b4c2",
   "metadata": {},
   "source": [
    "# Trabalhando com Herança de Classes em Python"
   ]
  },
  {
   "cell_type": "markdown",
   "id": "5f592856-058e-4004-b741-9b9850f3094e",
   "metadata": {},
   "source": [
    "Em Programação Orientada a Objetos (POO), a herança é um conceito que permite criar novas classes a partir de outras classes existentes, aproveitando os atributos e métodos da classe original e adicionando novos atributos e métodos específicos."
   ]
  },
  {
   "cell_type": "markdown",
   "id": "b03e5004-b502-4ff6-a4cf-f298e4c13274",
   "metadata": {},
   "source": [
    "A classe original é chamada de classe mãe ou superclasse e a nova classe criada é chamada de classe filha ou subclasse."
   ]
  },
  {
   "cell_type": "markdown",
   "id": "441c8863-48a7-43e3-b5ca-f040a4e5ab8e",
   "metadata": {},
   "source": [
    "A Herança é uma técnica importante em POO porque permite reutilizar o código de maneira eficiente. Em vez de criar uma nova classe do zero, a subclasse pode herdar todos os atributos e métodos da superclasse e adicionar apenas o que é necessário. Dessa forma, a subclasse pode se concentrar em fornecer funcionalidades sem precisar se preocupar com as características básicas da classe."
   ]
  },
  {
   "cell_type": "markdown",
   "id": "c0a3263b-ef20-410b-90ba-41040f993f48",
   "metadata": {},
   "source": [
    "Na herança, uma subclasse pode herdar os atributos e métodos da superclasse e substituí-los ou estendê-los conforme necessário. Por exemplo, uma subclasse pode ter um método com o mesmo nome de um método da superclasse, mas com um comportamento diferente."
   ]
  },
  {
   "cell_type": "markdown",
   "id": "8d2025ee-4405-41c1-8441-5353783a3340",
   "metadata": {},
   "source": [
    "# Fim"
   ]
  }
 ],
 "metadata": {
  "kernelspec": {
   "display_name": "Python 3 (ipykernel)",
   "language": "python",
   "name": "python3"
  },
  "language_info": {
   "codemirror_mode": {
    "name": "ipython",
    "version": 3
   },
   "file_extension": ".py",
   "mimetype": "text/x-python",
   "name": "python",
   "nbconvert_exporter": "python",
   "pygments_lexer": "ipython3",
   "version": "3.11.7"
  }
 },
 "nbformat": 4,
 "nbformat_minor": 5
}
