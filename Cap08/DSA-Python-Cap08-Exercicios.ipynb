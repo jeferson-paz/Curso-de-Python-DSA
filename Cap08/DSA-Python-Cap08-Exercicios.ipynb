{
 "cells": [
  {
   "cell_type": "markdown",
   "metadata": {},
   "source": [
    "# <font color='blue'>Data Science Academy</font>\n",
    "\n",
    "## <font color='blue'>Fundamentos de Linguagem Python Para Análise de Dados e Data Science</font>\n",
    "\n",
    "## <font color='blue'>Introdução à Programação Orientada a Objetos</font>"
   ]
  },
  {
   "cell_type": "code",
   "execution_count": null,
   "metadata": {},
   "outputs": [],
   "source": [
    "# Versão da Linguagem Python\n",
    "from platform import python_version\n",
    "print('Versão da Linguagem Python Usada Neste Jupyter Notebook:', python_version())"
   ]
  },
  {
   "cell_type": "markdown",
   "metadata": {},
   "source": [
    "## Exercícios"
   ]
  },
  {
   "cell_type": "code",
   "execution_count": 20,
   "metadata": {},
   "outputs": [
    {
     "name": "stdout",
     "output_type": "stream",
     "text": [
      "Posição inicial: x = 10, y = 20\n",
      "15 30\n"
     ]
    }
   ],
   "source": [
    "# Exercício 1 - Crie um objeto a partir da classe abaixo, chamado roc1, \n",
    "# passando 2 parâmetros e depois faça uma chamada aos atributos e métodos\n",
    "from math import sqrt\n",
    "\n",
    "# Definição da classe Rocket\n",
    "class Rocket():\n",
    "    \n",
    "    def __init__(self, x=0, y=0):\n",
    "        # Construtor da classe que inicializa os atributos x e y\n",
    "        self.x = x\n",
    "        self.y = y\n",
    "        \n",
    "    def move_rocket(self, x_increment=0, y_increment=1):\n",
    "        # Método para mover o foguete, incrementando x e y pelos valores fornecidos\n",
    "        self.x += x_increment\n",
    "        self.y += y_increment\n",
    "        \n",
    "    def print_rocket(self):\n",
    "        # Método para imprimir a posição atual do foguete\n",
    "        print(self.x, self.y)\n",
    "\n",
    "# Passo 1: Criar o objeto roc1 a partir da classe Rocket\n",
    "roc1 = Rocket(10, 20)\n",
    "\n",
    "# Passo 2: Chamar os atributos x e y\n",
    "print(f\"Posição inicial: x = {roc1.x}, y = {roc1.y}\")\n",
    "\n",
    "# Passo 3: Usar os métodos move_rocket e print_rocket\n",
    "roc1.move_rocket(5, 10)  # Move o foguete incrementando x em 5 e y em 10\n",
    "roc1.print_rocket()  # Imprime a nova posição do foguete\n",
    "        "
   ]
  },
  {
   "cell_type": "code",
   "execution_count": 24,
   "metadata": {},
   "outputs": [
    {
     "name": "stdout",
     "output_type": "stream",
     "text": [
      "Funcionário(a) Mary mora no Rio de janeiro e tem o número de 21-9634-5798, de telefone e e-mail: mary.1@gmail.com.\n"
     ]
    }
   ],
   "source": [
    "# Exercício 2 - Crie uma classe chamada Pessoa() com os atributos: nome, cidade, telefone e e-mail. Use pelo menos 2\n",
    "# métodos especiais na sua classe. Crie um objeto da sua classe e faça uma chamada a pelo menos um dos seus métodos\n",
    "# especiais.\n",
    "class Pessoa():\n",
    "    \n",
    "    def __init__(self, nome, cidade, telefone, email):\n",
    "        self.nome = nome\n",
    "        self.cidade = cidade\n",
    "        self.telefone = telefone\n",
    "        self.email = email\n",
    "    \n",
    "    def listFunc(self):\n",
    "        print (\"Funcionário(a) \" + self.nome + \" mora no \" + self.cidade + \" e tem o número de \" + self.telefone + \", de telefone e e-mail: \" + self.email + \".\")\n",
    "\n",
    "Func1 = Pessoa (\"Mary\", \"Rio de janeiro\", \"21-9634-5798\", \"mary.1@gmail.com\")\n",
    "\n",
    "Func1.listFunc()"
   ]
  },
  {
   "cell_type": "code",
   "execution_count": 19,
   "metadata": {},
   "outputs": [
    {
     "name": "stdout",
     "output_type": "stream",
     "text": [
      "Meu smartphone tem o tamanho de 20 polegadas, e a sua interface Android é muito fluída.\n",
      "O meu MP3Player tem 64GB de capacidade interna e a sua interface Android é muito boa. O tamanho do smartphone é de 20 polegadas.\n"
     ]
    }
   ],
   "source": [
    "class Smartphone:\n",
    "    \n",
    "    def __init__(self, tamanho, interface):\n",
    "        self.tamanho = tamanho\n",
    "        self.interface = interface\n",
    "        \n",
    "class MP3Player(Smartphone):\n",
    "    \n",
    "    def __init__(self, tamanho, interface, capacidade):\n",
    "        super().__init__(tamanho, interface)\n",
    "        self.capacidade = capacidade\n",
    "        \n",
    "    def ListaFunc(self):\n",
    "        print(\"Meu smartphone tem o tamanho de \" + str(self.tamanho) + \" polegadas, e a sua interface \" + self.interface + \" é muito fluída.\")\n",
    "    \n",
    "    def Herda_Two(self):\n",
    "        print(\"O meu MP3Player tem \" + str(self.capacidade) + \"GB de capacidade interna e a sua interface \" + self.interface + \" é muito boa. O tamanho do smartphone é de \" + str(self.tamanho) + \" polegadas.\")\n",
    "        \n",
    "Smart1 = MP3Player(20, \"Android\", 64)\n",
    "\n",
    "Smart1.ListaFunc()\n",
    "Smart1.Herda_Two()"
   ]
  },
  {
   "cell_type": "markdown",
   "metadata": {},
   "source": [
    "### FIM"
   ]
  },
  {
   "cell_type": "markdown",
   "metadata": {},
   "source": [
    "### Obrigado\n",
    "\n",
    "### Visite o Blog da Data Science Academy - <a href=\"http://blog.dsacademy.com.br\">Blog DSA</a>"
   ]
  }
 ],
 "metadata": {
  "kernelspec": {
   "display_name": "Python 3 (ipykernel)",
   "language": "python",
   "name": "python3"
  },
  "language_info": {
   "codemirror_mode": {
    "name": "ipython",
    "version": 3
   },
   "file_extension": ".py",
   "mimetype": "text/x-python",
   "name": "python",
   "nbconvert_exporter": "python",
   "pygments_lexer": "ipython3",
   "version": "3.11.9"
  }
 },
 "nbformat": 4,
 "nbformat_minor": 1
}
