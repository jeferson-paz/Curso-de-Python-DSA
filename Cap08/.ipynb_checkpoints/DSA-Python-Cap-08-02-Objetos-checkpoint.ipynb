{
 "cells": [
  {
   "cell_type": "markdown",
   "id": "bd1e3add-d931-4953-924a-89226abe4093",
   "metadata": {},
   "source": [
    "# <font color='blue'>Data Science Academy</font>\n",
    "\n",
    "## <font color='blue'>Fundamentos de Linguagem Python Para Análise de Dados e Data Science</font>\n",
    "\n",
    "## <font color='blue'>Introdução à Programação Orientada a Objetos</font>"
   ]
  },
  {
   "cell_type": "code",
   "execution_count": 2,
   "id": "82078869-a6ff-49d3-8e85-a08b48d9f963",
   "metadata": {},
   "outputs": [
    {
     "name": "stdout",
     "output_type": "stream",
     "text": [
      "Versão da Linguagem Python Usada Neste Jupyter Notebook: 3.11.7\n"
     ]
    }
   ],
   "source": [
    "# Versão da Linguagem Python\n",
    "from platform import python_version\n",
    "print('Versão da Linguagem Python Usada Neste Jupyter Notebook:', python_version())"
   ]
  },
  {
   "cell_type": "markdown",
   "id": "a46115bc-a3d6-49ef-8c4b-cf1eb8262f86",
   "metadata": {},
   "source": [
    "# Objetos"
   ]
  },
  {
   "cell_type": "markdown",
   "id": "988ef8e3-eaea-4f08-95ed-9a50ef95a8c7",
   "metadata": {},
   "source": [
    "Em Python, Tudo é Objeto!"
   ]
  },
  {
   "cell_type": "code",
   "execution_count": 4,
   "id": "3adf5259-92c0-4202-a0a3-45a50c546027",
   "metadata": {},
   "outputs": [],
   "source": [
    "# Criando um Lista\n",
    "lst_num = [\"Data\", \"Science\", \"Academy\", \"Nota\", 10, 10]"
   ]
  },
  {
   "cell_type": "code",
   "execution_count": 5,
   "id": "e2694908-d0a4-4fee-beea-1945a933e3f0",
   "metadata": {},
   "outputs": [
    {
     "data": {
      "text/plain": [
       "list"
      ]
     },
     "execution_count": 5,
     "metadata": {},
     "output_type": "execute_result"
    }
   ],
   "source": [
    "# A Lista lst_num é um objeto, uma instância da classe lista em Python\n",
    "type (lst_num)"
   ]
  },
  {
   "cell_type": "code",
   "execution_count": 6,
   "id": "e4ad0cf7-f14a-47d6-bdc7-c853e1f429ef",
   "metadata": {},
   "outputs": [
    {
     "name": "stdout",
     "output_type": "stream",
     "text": [
      "<class 'list'>\n"
     ]
    }
   ],
   "source": [
    "print(type([]))"
   ]
  },
  {
   "cell_type": "code",
   "execution_count": 7,
   "id": "d11cdbf9-6342-4953-a6dc-819eaaef5920",
   "metadata": {},
   "outputs": [
    {
     "data": {
      "text/plain": [
       "2"
      ]
     },
     "execution_count": 7,
     "metadata": {},
     "output_type": "execute_result"
    }
   ],
   "source": [
    "lst_num.count(10)"
   ]
  },
  {
   "cell_type": "code",
   "execution_count": 8,
   "id": "2ef4f5e9-b307-47af-8c8d-025d2c837e23",
   "metadata": {},
   "outputs": [
    {
     "name": "stdout",
     "output_type": "stream",
     "text": [
      "<class 'int'>\n",
      "<class 'list'>\n",
      "<class 'tuple'>\n",
      "<class 'dict'>\n",
      "<class 'str'>\n"
     ]
    }
   ],
   "source": [
    "# Usamos a função type, para verificar o tipo de um objeto\n",
    "print(type(10))\n",
    "print(type([]))\n",
    "print(type(()))\n",
    "print(type({}))\n",
    "print(type('a'))"
   ]
  },
  {
   "cell_type": "code",
   "execution_count": 9,
   "id": "240d06dc-78da-42c5-805d-e998c1b3bba4",
   "metadata": {},
   "outputs": [],
   "source": [
    "# Criando um novo tipo de objeto chamado Carro\n",
    "class Carro(object):\n",
    "    pass"
   ]
  },
  {
   "cell_type": "code",
   "execution_count": 10,
   "id": "52849445-661c-43d0-bb0c-6a996871828a",
   "metadata": {},
   "outputs": [],
   "source": [
    "# Instância do Carro\n",
    "ferrari = Carro ()"
   ]
  },
  {
   "cell_type": "code",
   "execution_count": 11,
   "id": "a77d4854-e7b4-4ec1-baa9-c29e014e215a",
   "metadata": {},
   "outputs": [
    {
     "name": "stdout",
     "output_type": "stream",
     "text": [
      "<class '__main__.Carro'>\n"
     ]
    }
   ],
   "source": [
    "print (type(ferrari))"
   ]
  },
  {
   "cell_type": "code",
   "execution_count": 12,
   "id": "f9ee1ee0-2204-42f6-9015-3ee21c9930de",
   "metadata": {},
   "outputs": [],
   "source": [
    "# Criando uma classe\n",
    "class Estudantes:\n",
    "    def __init__(self, nome, idade, nota):\n",
    "        self.nome = nome\n",
    "        self.idade = idade\n",
    "        self.nota = nota"
   ]
  },
  {
   "cell_type": "code",
   "execution_count": 14,
   "id": "957f169f-5e05-4b16-99e6-2e026a6496f9",
   "metadata": {},
   "outputs": [],
   "source": [
    "# Criando um objeto chamado Estudantel a partir da classe Estudante\n",
    "Estudantel1 = Estudantes (\"Bob\", 12, 9.5)"
   ]
  },
  {
   "cell_type": "code",
   "execution_count": 17,
   "id": "edda7472-9736-45a1-94f2-ee31858f95a9",
   "metadata": {},
   "outputs": [
    {
     "data": {
      "text/plain": [
       "'Bob'"
      ]
     },
     "execution_count": 17,
     "metadata": {},
     "output_type": "execute_result"
    }
   ],
   "source": [
    "# Atributo da classe Estudante, utilizado por cada objeto criado a partir desta classe\n",
    "Estudantel1.nome"
   ]
  },
  {
   "cell_type": "code",
   "execution_count": 18,
   "id": "db47684d-5648-40bc-9beb-7c791614ae5d",
   "metadata": {},
   "outputs": [
    {
     "data": {
      "text/plain": [
       "12"
      ]
     },
     "execution_count": 18,
     "metadata": {},
     "output_type": "execute_result"
    }
   ],
   "source": [
    "# Atributo da classe Estudante, utilizado por cada objeto criado a partir desta classe\n",
    "Estudantel1.idade"
   ]
  },
  {
   "cell_type": "code",
   "execution_count": 19,
   "id": "3888f530-d695-48aa-aad3-b9a255a10b6b",
   "metadata": {},
   "outputs": [
    {
     "data": {
      "text/plain": [
       "9.5"
      ]
     },
     "execution_count": 19,
     "metadata": {},
     "output_type": "execute_result"
    }
   ],
   "source": [
    "# Atributo da classe Estudante, utilizado por cada objeto criado a partir desta classe\n",
    "Estudantel1.nota"
   ]
  },
  {
   "cell_type": "code",
   "execution_count": 44,
   "id": "e0cd9ec7-4f32-4184-aa00-996e0e23a007",
   "metadata": {},
   "outputs": [],
   "source": [
    "# Criando uma classe\n",
    "class Funcionarios:\n",
    "\n",
    "    def __init__(self, nome, salario, cargo):\n",
    "        self.nome = nome\n",
    "        self.salario = salario\n",
    "        self.cargo = cargo\n",
    "\n",
    "    def listFunc(self):\n",
    "        print(\"Funcionário(a) \" + self.nome + \" tem salário de R$\" + str (self.salario) + \" e o cargo é \" + self.cargo)"
   ]
  },
  {
   "cell_type": "code",
   "execution_count": 45,
   "id": "bd88c86c-769f-4612-a237-999fa5b72dd3",
   "metadata": {},
   "outputs": [],
   "source": [
    "# Criando um objeto chamado Funcl a partir da classe Funcionarios\n",
    "Func1 = Funcionarios (\"Mary\", 2000, \"Cientista de Dados\")"
   ]
  },
  {
   "cell_type": "code",
   "execution_count": 46,
   "id": "cfc8433d-799c-4cb8-b532-38ce2de44147",
   "metadata": {},
   "outputs": [
    {
     "name": "stdout",
     "output_type": "stream",
     "text": [
      "Funcionário(a) Mary tem salário de R$2000 e o cargo é Cientista de Dados\n"
     ]
    }
   ],
   "source": [
    "# Usando o método da classe\n",
    "Func1.listFunc()"
   ]
  },
  {
   "cell_type": "code",
   "execution_count": 47,
   "id": "59a4a622-e0da-49eb-bd27-cc41e9eb120f",
   "metadata": {},
   "outputs": [
    {
     "name": "stdout",
     "output_type": "stream",
     "text": [
      "**** Usando atributos *****\n"
     ]
    }
   ],
   "source": [
    "print(\"**** Usando atributos *****\")"
   ]
  },
  {
   "cell_type": "code",
   "execution_count": 48,
   "id": "06b6894a-5a6d-4a8c-b5d5-ed1969dc3a01",
   "metadata": {},
   "outputs": [
    {
     "data": {
      "text/plain": [
       "True"
      ]
     },
     "execution_count": 48,
     "metadata": {},
     "output_type": "execute_result"
    }
   ],
   "source": [
    "hasattr(Func1, \"nome\")"
   ]
  },
  {
   "cell_type": "code",
   "execution_count": 49,
   "id": "92979df0-d3ac-4d1e-96ec-719079a96f6b",
   "metadata": {},
   "outputs": [
    {
     "data": {
      "text/plain": [
       "True"
      ]
     },
     "execution_count": 49,
     "metadata": {},
     "output_type": "execute_result"
    }
   ],
   "source": [
    "hasattr(Func1, \"salario\")"
   ]
  },
  {
   "cell_type": "code",
   "execution_count": 51,
   "id": "6ee8b161-3064-4910-814c-fcbafada800c",
   "metadata": {},
   "outputs": [],
   "source": [
    "setattr(Func1, \"salario\", 4500)"
   ]
  },
  {
   "cell_type": "code",
   "execution_count": 52,
   "id": "71d4a328-6329-4d4a-ba12-f187b48d17c1",
   "metadata": {},
   "outputs": [],
   "source": [
    "delattr(Func1, \"salario\")"
   ]
  },
  {
   "cell_type": "code",
   "execution_count": 53,
   "id": "69bbc967-d6f3-4331-8aac-8d7b2962de0f",
   "metadata": {},
   "outputs": [
    {
     "data": {
      "text/plain": [
       "False"
      ]
     },
     "execution_count": 53,
     "metadata": {},
     "output_type": "execute_result"
    }
   ],
   "source": [
    "hasattr(Func1, \"salario\")"
   ]
  },
  {
   "cell_type": "markdown",
   "id": "c64f1fb3-4735-4a9d-b79e-b4715b093435",
   "metadata": {},
   "source": [
    "# Fim"
   ]
  }
 ],
 "metadata": {
  "kernelspec": {
   "display_name": "Python 3 (ipykernel)",
   "language": "python",
   "name": "python3"
  },
  "language_info": {
   "codemirror_mode": {
    "name": "ipython",
    "version": 3
   },
   "file_extension": ".py",
   "mimetype": "text/x-python",
   "name": "python",
   "nbconvert_exporter": "python",
   "pygments_lexer": "ipython3",
   "version": "3.11.7"
  }
 },
 "nbformat": 4,
 "nbformat_minor": 5
}
