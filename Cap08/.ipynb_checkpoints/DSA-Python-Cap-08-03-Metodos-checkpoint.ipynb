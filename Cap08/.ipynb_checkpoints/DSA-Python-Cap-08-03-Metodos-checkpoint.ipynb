{
 "cells": [
  {
   "cell_type": "markdown",
   "id": "bd1e3add-d931-4953-924a-89226abe4093",
   "metadata": {},
   "source": [
    "# <font color='blue'>Data Science Academy</font>\n",
    "\n",
    "## <font color='blue'>Fundamentos de Linguagem Python Para Análise de Dados e Data Science</font>\n",
    "\n",
    "## <font color='blue'>Introdução à Programação Orientada a Objetos</font>"
   ]
  },
  {
   "cell_type": "code",
   "execution_count": 1,
   "id": "82078869-a6ff-49d3-8e85-a08b48d9f963",
   "metadata": {},
   "outputs": [
    {
     "name": "stdout",
     "output_type": "stream",
     "text": [
      "Versão da Linguagem Python Usada Neste Jupyter Notebook: 3.11.7\n"
     ]
    }
   ],
   "source": [
    "# Versão da Linguagem Python\n",
    "from platform import python_version\n",
    "print('Versão da Linguagem Python Usada Neste Jupyter Notebook:', python_version())"
   ]
  },
  {
   "cell_type": "markdown",
   "id": "9a54e203-247e-4cbd-a03a-c32319a3b4c2",
   "metadata": {},
   "source": [
    "# Trabalhando com Métodos de Classes em Python"
   ]
  },
  {
   "cell_type": "markdown",
   "id": "5f592856-058e-4004-b741-9b9850f3094e",
   "metadata": {},
   "source": [
    "Em Python, os métodos de classes são funções definidas dentro de uma classe, que realizam operações específicas em objetos criados a partir dessa classe. Os métodos de classes são usados para implementar o comportamento dos objetos que pertencem a essa classe."
   ]
  },
  {
   "cell_type": "markdown",
   "id": "b03e5004-b502-4ff6-a4cf-f298e4c13274",
   "metadata": {},
   "source": [
    "Assim como as funções em Python, os métodos de classes podem receber argumentos e retornar valores. No entanto, diferentemente das funções normais, os métodos de classe sempre incluem o parâmetro self como o primeiro argumento, que é usado para se referir ao objeto atual da classe."
   ]
  },
  {
   "cell_type": "markdown",
   "id": "441c8863-48a7-43e3-b5ca-f040a4e5ab8e",
   "metadata": {},
   "source": [
    "O método <b>init</b> é um método especial que é chamado quando um objeto é criado a partir da classe. Este método é usado para inicializar os atributos do objeto. Outros métodos podem se definidos para executar tarefas específicas em um objeto, como calcular valores, realizar operações de entrada e saída, ou alterar o estado do objeto."
   ]
  },
  {
   "cell_type": "code",
   "execution_count": 15,
   "id": "b758080a-29c1-445d-839d-5e7cc25ce127",
   "metadata": {},
   "outputs": [],
   "source": [
    "# Criando uma classe chamada Circulo\n",
    "class Circulo():\n",
    "\n",
    "    # O valor de pi é constante\n",
    "    pi = 3.14\n",
    "\n",
    "    # Quando um objeto desta classe for criado, este método será executado e o valor default do raio será 5.\n",
    "    def __init__(self, raio = 5):\n",
    "        self.raio = raio\n",
    "\n",
    "    # Esse método calcula a área.\n",
    "    def area(self):\n",
    "        return (self.raio * self.raio) * Circulo.pi\n",
    "\n",
    "    # Método para gerar um novo raio\n",
    "    def setRaio(self, novo_raio):\n",
    "        self.raio = novo_raio\n",
    "\n",
    "    # Método para obter o raio do círculo\n",
    "    def getRaio(self):\n",
    "        return self.raio"
   ]
  },
  {
   "cell_type": "code",
   "execution_count": 16,
   "id": "ce452c71-1e4f-46b8-b6bd-1f6565b392da",
   "metadata": {},
   "outputs": [],
   "source": [
    "# Criando o objeto circ, uma instância da classe Circulo\n",
    "circ = Circulo()"
   ]
  },
  {
   "cell_type": "code",
   "execution_count": 17,
   "id": "49a512d9-8ea5-4486-8d92-f61eb9371807",
   "metadata": {},
   "outputs": [
    {
     "data": {
      "text/plain": [
       "5"
      ]
     },
     "execution_count": 17,
     "metadata": {},
     "output_type": "execute_result"
    }
   ],
   "source": [
    "# Executando um método da classe Circulo\n",
    "circ.getRaio()"
   ]
  },
  {
   "cell_type": "code",
   "execution_count": 18,
   "id": "252655ab-2df7-450d-a319-655dfdac3893",
   "metadata": {},
   "outputs": [],
   "source": [
    "# Criando outro objeto chamado circ1. Uma instância da classe Circulo()\n",
    "# Agora sobrescrevendo o valor do atributo\n",
    "circ1 = Circulo(7)"
   ]
  },
  {
   "cell_type": "code",
   "execution_count": 19,
   "id": "80a1cd93-7464-4a1b-a9ad-da417f8a121d",
   "metadata": {},
   "outputs": [
    {
     "data": {
      "text/plain": [
       "7"
      ]
     },
     "execution_count": 19,
     "metadata": {},
     "output_type": "execute_result"
    }
   ],
   "source": [
    "# Executando um método da classe Circulo\n",
    "circ1.getRaio()"
   ]
  },
  {
   "cell_type": "code",
   "execution_count": 20,
   "id": "a7d06557-05ed-4164-a004-52b726f1abfd",
   "metadata": {},
   "outputs": [
    {
     "name": "stdout",
     "output_type": "stream",
     "text": [
      "O raio é?: 5\n"
     ]
    }
   ],
   "source": [
    "# Imprimindo a raio\n",
    "print('O raio é?:', circ.getRaio())"
   ]
  },
  {
   "cell_type": "code",
   "execution_count": 21,
   "id": "1338ab27-0e32-4e53-be10-5c24d7cfa785",
   "metadata": {},
   "outputs": [
    {
     "name": "stdout",
     "output_type": "stream",
     "text": [
      "Área igual a: 78.5\n"
     ]
    }
   ],
   "source": [
    "# Imprimindo a area\n",
    "print('Área igual a:', circ.area())"
   ]
  },
  {
   "cell_type": "code",
   "execution_count": 22,
   "id": "6bf9418b-8d62-484a-8824-7155c262ae3c",
   "metadata": {},
   "outputs": [],
   "source": [
    "# Gerando um novo valor para o raio do círculo\n",
    "circ.setRaio(3)"
   ]
  },
  {
   "cell_type": "code",
   "execution_count": 23,
   "id": "d653b723-cc49-4cb3-aab2-8bdaa905f5cd",
   "metadata": {},
   "outputs": [
    {
     "name": "stdout",
     "output_type": "stream",
     "text": [
      "Novo raio igual a: 3\n"
     ]
    }
   ],
   "source": [
    "# Imprimindo o novo raio\n",
    "print('Novo raio igual a:', circ.getRaio())"
   ]
  },
  {
   "cell_type": "markdown",
   "id": "8d2025ee-4405-41c1-8441-5353783a3340",
   "metadata": {},
   "source": [
    "# Fim"
   ]
  }
 ],
 "metadata": {
  "kernelspec": {
   "display_name": "Python 3 (ipykernel)",
   "language": "python",
   "name": "python3"
  },
  "language_info": {
   "codemirror_mode": {
    "name": "ipython",
    "version": 3
   },
   "file_extension": ".py",
   "mimetype": "text/x-python",
   "name": "python",
   "nbconvert_exporter": "python",
   "pygments_lexer": "ipython3",
   "version": "3.11.7"
  }
 },
 "nbformat": 4,
 "nbformat_minor": 5
}
